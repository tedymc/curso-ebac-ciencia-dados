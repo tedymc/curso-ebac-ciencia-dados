{
  "cells": [
    {
      "cell_type": "markdown",
      "metadata": {
        "id": "4rh__yR7TbJw"
      },
      "source": [
        "# Módulo 6 tarefa 3\n",
        "\n",
        "#### 1) A base 'sinasc_RO_2019.csv' contém dados do sistema de nascidos vivos do DataSUS, cujo dicionário de dados está no arquivo 'Estrutura_SINASC_para_CD.pdf'. Carregue esse arquivo."
      ]
    },
    {
      "cell_type": "code",
      "execution_count": 2,
      "metadata": {
        "colab": {
          "base_uri": "https://localhost:8080/"
        },
        "id": "Lh9Eo_XcTbJx",
        "outputId": "06bd0840-f446-4b08-9381-5bad5ed32a02"
      },
      "outputs": [
        {
          "output_type": "execute_result",
          "data": {
            "text/plain": [
              "Index(['ORIGEM', 'CODESTAB', 'CODMUNNASC', 'LOCNASC', 'IDADEMAE', 'ESTCIVMAE',\n",
              "       'ESCMAE', 'CODOCUPMAE', 'QTDFILVIVO', 'QTDFILMORT', 'CODMUNRES',\n",
              "       'GESTACAO', 'GRAVIDEZ', 'PARTO', 'CONSULTAS', 'DTNASC', 'HORANASC',\n",
              "       'SEXO', 'APGAR1', 'APGAR5', 'RACACOR', 'PESO', 'IDANOMAL', 'DTCADASTRO',\n",
              "       'CODANOMAL', 'NUMEROLOTE', 'VERSAOSIST', 'DTRECEBIM', 'DIFDATA',\n",
              "       'DTRECORIGA', 'NATURALMAE', 'CODMUNNATU', 'CODUFNATU', 'ESCMAE2010',\n",
              "       'SERIESCMAE', 'DTNASCMAE', 'RACACORMAE', 'QTDGESTANT', 'QTDPARTNOR',\n",
              "       'QTDPARTCES', 'IDADEPAI', 'DTULTMENST', 'SEMAGESTAC', 'TPMETESTIM',\n",
              "       'CONSPRENAT', 'MESPRENAT', 'TPAPRESENT', 'STTRABPART', 'STCESPARTO',\n",
              "       'TPNASCASSI', 'TPFUNCRESP', 'TPDOCRESP', 'DTDECLARAC', 'ESCMAEAGR1',\n",
              "       'STDNEPIDEM', 'STDNNOVA', 'CODPAISRES', 'TPROBSON', 'PARIDADE',\n",
              "       'KOTELCHUCK', 'CONTADOR', 'munResStatus', 'munResTipo', 'munResNome',\n",
              "       'munResUf', 'munResLat', 'munResLon', 'munResAlt', 'munResArea'],\n",
              "      dtype='object')"
            ]
          },
          "metadata": {},
          "execution_count": 2
        }
      ],
      "source": [
        "import pandas as pd\n",
        "import seaborn as sns\n",
        "\n",
        "df = pd.read_csv('SINASC_RO_2019.csv')\n",
        "df.columns"
      ]
    },
    {
      "cell_type": "markdown",
      "metadata": {
        "id": "mnBpGtdETbJx"
      },
      "source": [
        "#### 2) Categorize a variável APGAR5 conforme as seguintes quebras:\n",
        "\n",
        "- 0 a 3: 'asfixia grave'\n",
        "- 4 a 5: 'asfixia moderada'\n",
        "- 6 a 7: 'asfixia leve'\n",
        "- 8 a 10: 'normal'"
      ]
    },
    {
      "cell_type": "code",
      "execution_count": 3,
      "metadata": {
        "colab": {
          "base_uri": "https://localhost:8080/"
        },
        "id": "MCJloqCKTbJx",
        "outputId": "87aaf9ce-03f8-4cb1-f8af-ae7fcbaba631"
      },
      "outputs": [
        {
          "output_type": "stream",
          "name": "stdout",
          "text": [
            "\n",
            "normal              26463\n",
            "asfixia leve          320\n",
            "asfixia severa         74\n",
            "asfixia moderada       68\n",
            "Name: CLASSE_APGAR, dtype: int64\n"
          ]
        }
      ],
      "source": [
        "df.loc[(df['APGAR5'] >=8.0) & (df['APGAR5'] <=10.0), 'CLASSE_APGAR'] = 'normal'\n",
        "df.loc[(df['APGAR5'] >=6.0) & (df['APGAR5'] <=7.0), 'CLASSE_APGAR'] = 'asfixia leve'\n",
        "df.loc[(df['APGAR5'] >=4.0) & (df['APGAR5'] <=5.0), 'CLASSE_APGAR'] = 'asfixia moderada'\n",
        "df.loc[(df['APGAR5'] >=0.0) & (df['APGAR5'] <=3.0), 'CLASSE_APGAR'] = 'asfixia severa'\n",
        "\n",
        "print(f\"\\n{df['CLASSE_APGAR'].value_counts()}\")"
      ]
    },
    {
      "cell_type": "markdown",
      "metadata": {
        "id": "cFbfLUVaTbJx"
      },
      "source": [
        "#### 3) Monte um gráfico comparando a distribuição de APGAR5 por sexo para cada grupo de tempo de gestação (GESTACAO)."
      ]
    },
    {
      "cell_type": "code",
      "execution_count": 4,
      "metadata": {
        "colab": {
          "base_uri": "https://localhost:8080/",
          "height": 466
        },
        "id": "eZC_o2P-TbJy",
        "outputId": "e0c5feeb-fea5-4e80-b198-5ce8a521a79d"
      },
      "outputs": [
        {
          "output_type": "execute_result",
          "data": {
            "text/plain": [
              "<matplotlib.legend.Legend at 0x7868a3b43fd0>"
            ]
          },
          "metadata": {},
          "execution_count": 4
        },
        {
          "output_type": "display_data",
          "data": {
            "text/plain": [
              "<Figure size 640x480 with 1 Axes>"
            ],
            "image/png": "[encoded data removed]"
          },
          "metadata": {}
        }
      ],
      "source": [
        "plt = sns.barplot(data=df, y='GESTACAO', x='APGAR5', hue='SEXO')\n",
        "plt.legend(loc='best')\n"
      ]
    },
    {
      "cell_type": "markdown",
      "metadata": {
        "id": "8--OMMtGTbJy"
      },
      "source": [
        "####  4) Monte uma tabela cruzada com APGAR5 nas colunas e GESTACAO nas linhas"
      ]
    },
    {
      "cell_type": "code",
      "execution_count": 5,
      "metadata": {
        "colab": {
          "base_uri": "https://localhost:8080/",
          "height": 269
        },
        "id": "3W9LfMCiTbJy",
        "outputId": "4db77781-dfb1-485c-ed24-1f5be2fb09a4"
      },
      "outputs": [
        {
          "output_type": "execute_result",
          "data": {
            "text/plain": [
              "APGAR5               0.0   1.0   2.0   3.0   4.0   5.0   6.0   7.0   8.0   \\\n",
              "GESTACAO                                                                    \n",
              "22 a 27 semanas         7     0     8     6     1     0     2    10    24   \n",
              "28 a 31 semanas         0     0     2     1     5     7     7    11    61   \n",
              "32 a 36 semanas         2     2     2     2     8    11    17    56   362   \n",
              "37 a 41 semanas         5    20     3     5     7    21    45   151  1417   \n",
              "42 semanas e mais       1     0     0     0     0     1     1     5    44   \n",
              "Menos de 22 semanas     1     0     1     0     0     0     0     1     0   \n",
              "\n",
              "APGAR5                9.0   10.0  \n",
              "GESTACAO                          \n",
              "22 a 27 semanas         19     8  \n",
              "28 a 31 semanas         55    13  \n",
              "32 a 36 semanas       1307   465  \n",
              "37 a 41 semanas      13565  7284  \n",
              "42 semanas e mais      423   223  \n",
              "Menos de 22 semanas      3     1  "
            ],
            "text/html": [
              "\n",
              "  <div id=\"df-68971d37-f04a-456d-a54f-b2b6a3f8dab2\" class=\"colab-df-container\">\n",
              "    <div>\n",
              "<style scoped>\n",
              "    .dataframe tbody tr th:only-of-type {\n",
              "        vertical-align: middle;\n",
              "    }\n",
              "\n",
              "    .dataframe tbody tr th {\n",
              "        vertical-align: top;\n",
              "    }\n",
              "\n",
              "    .dataframe thead th {\n",
              "        text-align: right;\n",
              "    }\n",
              "</style>\n",
              "<table border=\"1\" class=\"dataframe\">\n",
              "  <thead>\n",
              "    <tr style=\"text-align: right;\">\n",
              "      <th>APGAR5</th>\n",
              "      <th>0.0</th>\n",
              "      <th>1.0</th>\n",
              "      <th>2.0</th>\n",
              "      <th>3.0</th>\n",
              "      <th>4.0</th>\n",
              "      <th>5.0</th>\n",
              "      <th>6.0</th>\n",
              "      <th>7.0</th>\n",
              "      <th>8.0</th>\n",
              "      <th>9.0</th>\n",
              "      <th>10.0</th>\n",
              "    </tr>\n",
              "    <tr>\n",
              "      <th>GESTACAO</th>\n",
              "      <th></th>\n",
              "      <th></th>\n",
              "      <th></th>\n",
              "      <th></th>\n",
              "      <th></th>\n",
              "      <th></th>\n",
              "      <th></th>\n",
              "      <th></th>\n",
              "      <th></th>\n",
              "      <th></th>\n",
              "      <th></th>\n",
              "    </tr>\n",
              "  </thead>\n",
              "  <tbody>\n",
              "    <tr>\n",
              "      <th>22 a 27 semanas</th>\n",
              "      <td>7</td>\n",
              "      <td>0</td>\n",
              "      <td>8</td>\n",
              "      <td>6</td>\n",
              "      <td>1</td>\n",
              "      <td>0</td>\n",
              "      <td>2</td>\n",
              "      <td>10</td>\n",
              "      <td>24</td>\n",
              "      <td>19</td>\n",
              "      <td>8</td>\n",
              "    </tr>\n",
              "    <tr>\n",
              "      <th>28 a 31 semanas</th>\n",
              "      <td>0</td>\n",
              "      <td>0</td>\n",
              "      <td>2</td>\n",
              "      <td>1</td>\n",
              "      <td>5</td>\n",
              "      <td>7</td>\n",
              "      <td>7</td>\n",
              "      <td>11</td>\n",
              "      <td>61</td>\n",
              "      <td>55</td>\n",
              "      <td>13</td>\n",
              "    </tr>\n",
              "    <tr>\n",
              "      <th>32 a 36 semanas</th>\n",
              "      <td>2</td>\n",
              "      <td>2</td>\n",
              "      <td>2</td>\n",
              "      <td>2</td>\n",
              "      <td>8</td>\n",
              "      <td>11</td>\n",
              "      <td>17</td>\n",
              "      <td>56</td>\n",
              "      <td>362</td>\n",
              "      <td>1307</td>\n",
              "      <td>465</td>\n",
              "    </tr>\n",
              "    <tr>\n",
              "      <th>37 a 41 semanas</th>\n",
              "      <td>5</td>\n",
              "      <td>20</td>\n",
              "      <td>3</td>\n",
              "      <td>5</td>\n",
              "      <td>7</td>\n",
              "      <td>21</td>\n",
              "      <td>45</td>\n",
              "      <td>151</td>\n",
              "      <td>1417</td>\n",
              "      <td>13565</td>\n",
              "      <td>7284</td>\n",
              "    </tr>\n",
              "    <tr>\n",
              "      <th>42 semanas e mais</th>\n",
              "      <td>1</td>\n",
              "      <td>0</td>\n",
              "      <td>0</td>\n",
              "      <td>0</td>\n",
              "      <td>0</td>\n",
              "      <td>1</td>\n",
              "      <td>1</td>\n",
              "      <td>5</td>\n",
              "      <td>44</td>\n",
              "      <td>423</td>\n",
              "      <td>223</td>\n",
              "    </tr>\n",
              "    <tr>\n",
              "      <th>Menos de 22 semanas</th>\n",
              "      <td>1</td>\n",
              "      <td>0</td>\n",
              "      <td>1</td>\n",
              "      <td>0</td>\n",
              "      <td>0</td>\n",
              "      <td>0</td>\n",
              "      <td>0</td>\n",
              "      <td>1</td>\n",
              "      <td>0</td>\n",
              "      <td>3</td>\n",
              "      <td>1</td>\n",
              "    </tr>\n",
              "  </tbody>\n",
              "</table>\n",
              "</div>\n",
              "    <div class=\"colab-df-buttons\">\n",
              "\n",
              "  <div class=\"colab-df-container\">\n",
              "    <button class=\"colab-df-convert\" onclick=\"convertToInteractive('df-68971d37-f04a-456d-a54f-b2b6a3f8dab2')\"\n",
              "            title=\"Convert this dataframe to an interactive table.\"\n",
              "            style=\"display:none;\">\n",
              "\n",
              "  <svg xmlns=\"http://www.w3.org/2000/svg\" height=\"24px\" viewBox=\"0 -960 960 960\">\n",
              "    <path d=\"M120-120v-720h720v720H120Zm60-500h600v-160H180v160Zm220 220h160v-160H400v160Zm0 220h160v-160H400v160ZM180-400h160v-160H180v160Zm440 0h160v-160H620v160ZM180-180h160v-160H180v160Zm440 0h160v-160H620v160Z\"/>\n",
              "  </svg>\n",
              "    </button>\n",
              "\n",
              "  <style>\n",
              "    .colab-df-container {\n",
              "      display:flex;\n",
              "      gap: 12px;\n",
              "    }\n",
              "\n",
              "    .colab-df-convert {\n",
              "      background-color: #E8F0FE;\n",
              "      border: none;\n",
              "      border-radius: 50%;\n",
              "      cursor: pointer;\n",
              "      display: none;\n",
              "      fill: #1967D2;\n",
              "      height: 32px;\n",
              "      padding: 0 0 0 0;\n",
              "      width: 32px;\n",
              "    }\n",
              "\n",
              "    .colab-df-convert:hover {\n",
              "      background-color: #E2EBFA;\n",
              "      box-shadow: 0px 1px 2px rgba(60, 64, 67, 0.3), 0px 1px 3px 1px rgba(60, 64, 67, 0.15);\n",
              "      fill: #174EA6;\n",
              "    }\n",
              "\n",
              "    .colab-df-buttons div {\n",
              "      margin-bottom: 4px;\n",
              "    }\n",
              "\n",
              "    [theme=dark] .colab-df-convert {\n",
              "      background-color: #3B4455;\n",
              "      fill: #D2E3FC;\n",
              "    }\n",
              "\n",
              "    [theme=dark] .colab-df-convert:hover {\n",
              "      background-color: #434B5C;\n",
              "      box-shadow: 0px 1px 3px 1px rgba(0, 0, 0, 0.15);\n",
              "      filter: drop-shadow(0px 1px 2px rgba(0, 0, 0, 0.3));\n",
              "      fill: #FFFFFF;\n",
              "    }\n",
              "  </style>\n",
              "\n",
              "    <script>\n",
              "      const buttonEl =\n",
              "        document.querySelector('#df-68971d37-f04a-456d-a54f-b2b6a3f8dab2 button.colab-df-convert');\n",
              "      buttonEl.style.display =\n",
              "        google.colab.kernel.accessAllowed ? 'block' : 'none';\n",
              "\n",
              "      async function convertToInteractive(key) {\n",
              "        const element = document.querySelector('#df-68971d37-f04a-456d-a54f-b2b6a3f8dab2');\n",
              "        const dataTable =\n",
              "          await google.colab.kernel.invokeFunction('convertToInteractive',\n",
              "                                                    [key], {});\n",
              "        if (!dataTable) return;\n",
              "\n",
              "        const docLinkHtml = 'Like what you see? Visit the ' +\n",
              "          '<a target=\"_blank\" href=https://colab.research.google.com/notebooks/data_table.ipynb>data table notebook</a>'\n",
              "          + ' to learn more about interactive tables.';\n",
              "        element.innerHTML = '';\n",
              "        dataTable['output_type'] = 'display_data';\n",
              "        await google.colab.output.renderOutput(dataTable, element);\n",
              "        const docLink = document.createElement('div');\n",
              "        docLink.innerHTML = docLinkHtml;\n",
              "        element.appendChild(docLink);\n",
              "      }\n",
              "    </script>\n",
              "  </div>\n",
              "\n",
              "\n",
              "<div id=\"df-88ff95c9-fdf2-4ab2-a8d0-f5bba733d074\">\n",
              "  <button class=\"colab-df-quickchart\" onclick=\"quickchart('df-88ff95c9-fdf2-4ab2-a8d0-f5bba733d074')\"\n",
              "            title=\"Suggest charts.\"\n",
              "            style=\"display:none;\">\n",
              "\n",
              "<svg xmlns=\"http://www.w3.org/2000/svg\" height=\"24px\"viewBox=\"0 0 24 24\"\n",
              "     width=\"24px\">\n",
              "    <g>\n",
              "        <path d=\"M19 3H5c-1.1 0-2 .9-2 2v14c0 1.1.9 2 2 2h14c1.1 0 2-.9 2-2V5c0-1.1-.9-2-2-2zM9 17H7v-7h2v7zm4 0h-2V7h2v10zm4 0h-2v-4h2v4z\"/>\n",
              "    </g>\n",
              "</svg>\n",
              "  </button>\n",
              "\n",
              "<style>\n",
              "  .colab-df-quickchart {\n",
              "    background-color: #E8F0FE;\n",
              "    border: none;\n",
              "    border-radius: 50%;\n",
              "    cursor: pointer;\n",
              "    display: none;\n",
              "    fill: #1967D2;\n",
              "    height: 32px;\n",
              "    padding: 0 0 0 0;\n",
              "    width: 32px;\n",
              "  }\n",
              "\n",
              "  .colab-df-quickchart:hover {\n",
              "    background-color: #E2EBFA;\n",
              "    box-shadow: 0px 1px 2px rgba(60, 64, 67, 0.3), 0px 1px 3px 1px rgba(60, 64, 67, 0.15);\n",
              "    fill: #174EA6;\n",
              "  }\n",
              "\n",
              "  [theme=dark] .colab-df-quickchart {\n",
              "    background-color: #3B4455;\n",
              "    fill: #D2E3FC;\n",
              "  }\n",
              "\n",
              "  [theme=dark] .colab-df-quickchart:hover {\n",
              "    background-color: #434B5C;\n",
              "    box-shadow: 0px 1px 3px 1px rgba(0, 0, 0, 0.15);\n",
              "    filter: drop-shadow(0px 1px 2px rgba(0, 0, 0, 0.3));\n",
              "    fill: #FFFFFF;\n",
              "  }\n",
              "</style>\n",
              "\n",
              "  <script>\n",
              "    async function quickchart(key) {\n",
              "      const charts = await google.colab.kernel.invokeFunction(\n",
              "          'suggestCharts', [key], {});\n",
              "    }\n",
              "    (() => {\n",
              "      let quickchartButtonEl =\n",
              "        document.querySelector('#df-88ff95c9-fdf2-4ab2-a8d0-f5bba733d074 button');\n",
              "      quickchartButtonEl.style.display =\n",
              "        google.colab.kernel.accessAllowed ? 'block' : 'none';\n",
              "    })();\n",
              "  </script>\n",
              "</div>\n",
              "    </div>\n",
              "  </div>\n"
            ]
          },
          "metadata": {},
          "execution_count": 5
        }
      ],
      "source": [
        "freq = pd.crosstab(df['GESTACAO'], df['APGAR5'])\n",
        "freq"
      ]
    },
    {
      "cell_type": "markdown",
      "metadata": {
        "id": "ZIiq5m9PTbJy"
      },
      "source": [
        "####  5) Da tabela cruzada do intem anterior, calcule os percentuais de linha. Ou seja, a distribuição da variável APGAR5 para cada classe de GESTACAO dado."
      ]
    },
    {
      "cell_type": "code",
      "execution_count": 6,
      "metadata": {
        "colab": {
          "base_uri": "https://localhost:8080/",
          "height": 269
        },
        "id": "JDIwSUxTTbJy",
        "outputId": "8766cdc9-9516-44ec-9465-e2431a769fe6"
      },
      "outputs": [
        {
          "output_type": "execute_result",
          "data": {
            "text/plain": [
              "APGAR5                   0.0       1.0       2.0       3.0       4.0   \\\n",
              "GESTACAO                                                                \n",
              "22 a 27 semanas      0.082353  0.000000  0.094118  0.070588  0.011765   \n",
              "28 a 31 semanas      0.000000  0.000000  0.012346  0.006173  0.030864   \n",
              "32 a 36 semanas      0.000895  0.000895  0.000895  0.000895  0.003581   \n",
              "37 a 41 semanas      0.000222  0.000888  0.000133  0.000222  0.000311   \n",
              "42 semanas e mais    0.001433  0.000000  0.000000  0.000000  0.000000   \n",
              "Menos de 22 semanas  0.142857  0.000000  0.142857  0.000000  0.000000   \n",
              "\n",
              "APGAR5                   5.0       6.0       7.0       8.0       9.0   \\\n",
              "GESTACAO                                                                \n",
              "22 a 27 semanas      0.000000  0.023529  0.117647  0.282353  0.223529   \n",
              "28 a 31 semanas      0.043210  0.043210  0.067901  0.376543  0.339506   \n",
              "32 a 36 semanas      0.004924  0.007610  0.025067  0.162041  0.585049   \n",
              "37 a 41 semanas      0.000932  0.001998  0.006704  0.062913  0.602273   \n",
              "42 semanas e mais    0.001433  0.001433  0.007163  0.063037  0.606017   \n",
              "Menos de 22 semanas  0.000000  0.000000  0.142857  0.000000  0.428571   \n",
              "\n",
              "APGAR5                   10.0  \n",
              "GESTACAO                       \n",
              "22 a 27 semanas      0.094118  \n",
              "28 a 31 semanas      0.080247  \n",
              "32 a 36 semanas      0.208147  \n",
              "37 a 41 semanas      0.323403  \n",
              "42 semanas e mais    0.319484  \n",
              "Menos de 22 semanas  0.142857  "
            ],
            "text/html": [
              "\n",
              "  <div id=\"df-9319d22c-a95d-4f35-88a0-04d9ae430e49\" class=\"colab-df-container\">\n",
              "    <div>\n",
              "<style scoped>\n",
              "    .dataframe tbody tr th:only-of-type {\n",
              "        vertical-align: middle;\n",
              "    }\n",
              "\n",
              "    .dataframe tbody tr th {\n",
              "        vertical-align: top;\n",
              "    }\n",
              "\n",
              "    .dataframe thead th {\n",
              "        text-align: right;\n",
              "    }\n",
              "</style>\n",
              "<table border=\"1\" class=\"dataframe\">\n",
              "  <thead>\n",
              "    <tr style=\"text-align: right;\">\n",
              "      <th>APGAR5</th>\n",
              "      <th>0.0</th>\n",
              "      <th>1.0</th>\n",
              "      <th>2.0</th>\n",
              "      <th>3.0</th>\n",
              "      <th>4.0</th>\n",
              "      <th>5.0</th>\n",
              "      <th>6.0</th>\n",
              "      <th>7.0</th>\n",
              "      <th>8.0</th>\n",
              "      <th>9.0</th>\n",
              "      <th>10.0</th>\n",
              "    </tr>\n",
              "    <tr>\n",
              "      <th>GESTACAO</th>\n",
              "      <th></th>\n",
              "      <th></th>\n",
              "      <th></th>\n",
              "      <th></th>\n",
              "      <th></th>\n",
              "      <th></th>\n",
              "      <th></th>\n",
              "      <th></th>\n",
              "      <th></th>\n",
              "      <th></th>\n",
              "      <th></th>\n",
              "    </tr>\n",
              "  </thead>\n",
              "  <tbody>\n",
              "    <tr>\n",
              "      <th>22 a 27 semanas</th>\n",
              "      <td>0.082353</td>\n",
              "      <td>0.000000</td>\n",
              "      <td>0.094118</td>\n",
              "      <td>0.070588</td>\n",
              "      <td>0.011765</td>\n",
              "      <td>0.000000</td>\n",
              "      <td>0.023529</td>\n",
              "      <td>0.117647</td>\n",
              "      <td>0.282353</td>\n",
              "      <td>0.223529</td>\n",
              "      <td>0.094118</td>\n",
              "    </tr>\n",
              "    <tr>\n",
              "      <th>28 a 31 semanas</th>\n",
              "      <td>0.000000</td>\n",
              "      <td>0.000000</td>\n",
              "      <td>0.012346</td>\n",
              "      <td>0.006173</td>\n",
              "      <td>0.030864</td>\n",
              "      <td>0.043210</td>\n",
              "      <td>0.043210</td>\n",
              "      <td>0.067901</td>\n",
              "      <td>0.376543</td>\n",
              "      <td>0.339506</td>\n",
              "      <td>0.080247</td>\n",
              "    </tr>\n",
              "    <tr>\n",
              "      <th>32 a 36 semanas</th>\n",
              "      <td>0.000895</td>\n",
              "      <td>0.000895</td>\n",
              "      <td>0.000895</td>\n",
              "      <td>0.000895</td>\n",
              "      <td>0.003581</td>\n",
              "      <td>0.004924</td>\n",
              "      <td>0.007610</td>\n",
              "      <td>0.025067</td>\n",
              "      <td>0.162041</td>\n",
              "      <td>0.585049</td>\n",
              "      <td>0.208147</td>\n",
              "    </tr>\n",
              "    <tr>\n",
              "      <th>37 a 41 semanas</th>\n",
              "      <td>0.000222</td>\n",
              "      <td>0.000888</td>\n",
              "      <td>0.000133</td>\n",
              "      <td>0.000222</td>\n",
              "      <td>0.000311</td>\n",
              "      <td>0.000932</td>\n",
              "      <td>0.001998</td>\n",
              "      <td>0.006704</td>\n",
              "      <td>0.062913</td>\n",
              "      <td>0.602273</td>\n",
              "      <td>0.323403</td>\n",
              "    </tr>\n",
              "    <tr>\n",
              "      <th>42 semanas e mais</th>\n",
              "      <td>0.001433</td>\n",
              "      <td>0.000000</td>\n",
              "      <td>0.000000</td>\n",
              "      <td>0.000000</td>\n",
              "      <td>0.000000</td>\n",
              "      <td>0.001433</td>\n",
              "      <td>0.001433</td>\n",
              "      <td>0.007163</td>\n",
              "      <td>0.063037</td>\n",
              "      <td>0.606017</td>\n",
              "      <td>0.319484</td>\n",
              "    </tr>\n",
              "    <tr>\n",
              "      <th>Menos de 22 semanas</th>\n",
              "      <td>0.142857</td>\n",
              "      <td>0.000000</td>\n",
              "      <td>0.142857</td>\n",
              "      <td>0.000000</td>\n",
              "      <td>0.000000</td>\n",
              "      <td>0.000000</td>\n",
              "      <td>0.000000</td>\n",
              "      <td>0.142857</td>\n",
              "      <td>0.000000</td>\n",
              "      <td>0.428571</td>\n",
              "      <td>0.142857</td>\n",
              "    </tr>\n",
              "  </tbody>\n",
              "</table>\n",
              "</div>\n",
              "    <div class=\"colab-df-buttons\">\n",
              "\n",
              "  <div class=\"colab-df-container\">\n",
              "    <button class=\"colab-df-convert\" onclick=\"convertToInteractive('df-9319d22c-a95d-4f35-88a0-04d9ae430e49')\"\n",
              "            title=\"Convert this dataframe to an interactive table.\"\n",
              "            style=\"display:none;\">\n",
              "\n",
              "  <svg xmlns=\"http://www.w3.org/2000/svg\" height=\"24px\" viewBox=\"0 -960 960 960\">\n",
              "    <path d=\"M120-120v-720h720v720H120Zm60-500h600v-160H180v160Zm220 220h160v-160H400v160Zm0 220h160v-160H400v160ZM180-400h160v-160H180v160Zm440 0h160v-160H620v160ZM180-180h160v-160H180v160Zm440 0h160v-160H620v160Z\"/>\n",
              "  </svg>\n",
              "    </button>\n",
              "\n",
              "  <style>\n",
              "    .colab-df-container {\n",
              "      display:flex;\n",
              "      gap: 12px;\n",
              "    }\n",
              "\n",
              "    .colab-df-convert {\n",
              "      background-color: #E8F0FE;\n",
              "      border: none;\n",
              "      border-radius: 50%;\n",
              "      cursor: pointer;\n",
              "      display: none;\n",
              "      fill: #1967D2;\n",
              "      height: 32px;\n",
              "      padding: 0 0 0 0;\n",
              "      width: 32px;\n",
              "    }\n",
              "\n",
              "    .colab-df-convert:hover {\n",
              "      background-color: #E2EBFA;\n",
              "      box-shadow: 0px 1px 2px rgba(60, 64, 67, 0.3), 0px 1px 3px 1px rgba(60, 64, 67, 0.15);\n",
              "      fill: #174EA6;\n",
              "    }\n",
              "\n",
              "    .colab-df-buttons div {\n",
              "      margin-bottom: 4px;\n",
              "    }\n",
              "\n",
              "    [theme=dark] .colab-df-convert {\n",
              "      background-color: #3B4455;\n",
              "      fill: #D2E3FC;\n",
              "    }\n",
              "\n",
              "    [theme=dark] .colab-df-convert:hover {\n",
              "      background-color: #434B5C;\n",
              "      box-shadow: 0px 1px 3px 1px rgba(0, 0, 0, 0.15);\n",
              "      filter: drop-shadow(0px 1px 2px rgba(0, 0, 0, 0.3));\n",
              "      fill: #FFFFFF;\n",
              "    }\n",
              "  </style>\n",
              "\n",
              "    <script>\n",
              "      const buttonEl =\n",
              "        document.querySelector('#df-9319d22c-a95d-4f35-88a0-04d9ae430e49 button.colab-df-convert');\n",
              "      buttonEl.style.display =\n",
              "        google.colab.kernel.accessAllowed ? 'block' : 'none';\n",
              "\n",
              "      async function convertToInteractive(key) {\n",
              "        const element = document.querySelector('#df-9319d22c-a95d-4f35-88a0-04d9ae430e49');\n",
              "        const dataTable =\n",
              "          await google.colab.kernel.invokeFunction('convertToInteractive',\n",
              "                                                    [key], {});\n",
              "        if (!dataTable) return;\n",
              "\n",
              "        const docLinkHtml = 'Like what you see? Visit the ' +\n",
              "          '<a target=\"_blank\" href=https://colab.research.google.com/notebooks/data_table.ipynb>data table notebook</a>'\n",
              "          + ' to learn more about interactive tables.';\n",
              "        element.innerHTML = '';\n",
              "        dataTable['output_type'] = 'display_data';\n",
              "        await google.colab.output.renderOutput(dataTable, element);\n",
              "        const docLink = document.createElement('div');\n",
              "        docLink.innerHTML = docLinkHtml;\n",
              "        element.appendChild(docLink);\n",
              "      }\n",
              "    </script>\n",
              "  </div>\n",
              "\n",
              "\n",
              "<div id=\"df-3385ae59-6973-424d-87aa-1b7cf90915a6\">\n",
              "  <button class=\"colab-df-quickchart\" onclick=\"quickchart('df-3385ae59-6973-424d-87aa-1b7cf90915a6')\"\n",
              "            title=\"Suggest charts.\"\n",
              "            style=\"display:none;\">\n",
              "\n",
              "<svg xmlns=\"http://www.w3.org/2000/svg\" height=\"24px\"viewBox=\"0 0 24 24\"\n",
              "     width=\"24px\">\n",
              "    <g>\n",
              "        <path d=\"M19 3H5c-1.1 0-2 .9-2 2v14c0 1.1.9 2 2 2h14c1.1 0 2-.9 2-2V5c0-1.1-.9-2-2-2zM9 17H7v-7h2v7zm4 0h-2V7h2v10zm4 0h-2v-4h2v4z\"/>\n",
              "    </g>\n",
              "</svg>\n",
              "  </button>\n",
              "\n",
              "<style>\n",
              "  .colab-df-quickchart {\n",
              "    background-color: #E8F0FE;\n",
              "    border: none;\n",
              "    border-radius: 50%;\n",
              "    cursor: pointer;\n",
              "    display: none;\n",
              "    fill: #1967D2;\n",
              "    height: 32px;\n",
              "    padding: 0 0 0 0;\n",
              "    width: 32px;\n",
              "  }\n",
              "\n",
              "  .colab-df-quickchart:hover {\n",
              "    background-color: #E2EBFA;\n",
              "    box-shadow: 0px 1px 2px rgba(60, 64, 67, 0.3), 0px 1px 3px 1px rgba(60, 64, 67, 0.15);\n",
              "    fill: #174EA6;\n",
              "  }\n",
              "\n",
              "  [theme=dark] .colab-df-quickchart {\n",
              "    background-color: #3B4455;\n",
              "    fill: #D2E3FC;\n",
              "  }\n",
              "\n",
              "  [theme=dark] .colab-df-quickchart:hover {\n",
              "    background-color: #434B5C;\n",
              "    box-shadow: 0px 1px 3px 1px rgba(0, 0, 0, 0.15);\n",
              "    filter: drop-shadow(0px 1px 2px rgba(0, 0, 0, 0.3));\n",
              "    fill: #FFFFFF;\n",
              "  }\n",
              "</style>\n",
              "\n",
              "  <script>\n",
              "    async function quickchart(key) {\n",
              "      const charts = await google.colab.kernel.invokeFunction(\n",
              "          'suggestCharts', [key], {});\n",
              "    }\n",
              "    (() => {\n",
              "      let quickchartButtonEl =\n",
              "        document.querySelector('#df-3385ae59-6973-424d-87aa-1b7cf90915a6 button');\n",
              "      quickchartButtonEl.style.display =\n",
              "        google.colab.kernel.accessAllowed ? 'block' : 'none';\n",
              "    })();\n",
              "  </script>\n",
              "</div>\n",
              "    </div>\n",
              "  </div>\n"
            ]
          },
          "metadata": {},
          "execution_count": 6
        }
      ],
      "source": [
        "#axis0 = linha, axis1 = coluna\n",
        "#soma todas as colunas por linha e gera vetor com 6 valores\n",
        "#divide todas as linhas de cadas coluna, cada uma com o valor do vetor correspondente\n",
        "\n",
        "freq_pctlin = freq.div(freq.sum(axis = 1), axis = 0)\n",
        "freq_pctlin"
      ]
    },
    {
      "cell_type": "markdown",
      "metadata": {
        "id": "AErSKupBTbJy"
      },
      "source": [
        "####  6) Os médicos costumam classificar parto prematuro quando a gestação tem menos que 37 semanas. Faça um gráfico de barras da tabela cruzada acima e conclua se você acha que este conjunto de dados corrobora ou não com a afirmação dos médicos."
      ]
    },
    {
      "cell_type": "code",
      "execution_count": 7,
      "metadata": {
        "colab": {
          "base_uri": "https://localhost:8080/",
          "height": 483
        },
        "id": "12J0aXEFTbJy",
        "outputId": "cf7543f0-4871-46e3-c637-130041f00634"
      },
      "outputs": [
        {
          "output_type": "execute_result",
          "data": {
            "text/plain": [
              "<Axes: xlabel='APGAR5'>"
            ]
          },
          "metadata": {},
          "execution_count": 7
        },
        {
          "output_type": "display_data",
          "data": {
            "text/plain": [
              "<Figure size 640x480 with 1 Axes>"
            ],
            "image/png": "[encoded data removed]"
          },
          "metadata": {}
        }
      ],
      "source": [
        "freq_pctlin.T.plot.bar()"
      ]
    },
    {
      "cell_type": "markdown",
      "source": [
        "Não entendi como chegar a alguma conclusão sobre parto prematuro a partir da tabela de tempo de gestação/apgar5. Eu usaria somente a porcentagem de partos"
      ],
      "metadata": {
        "id": "Wa9U_QLcc6kF"
      }
    },
    {
      "cell_type": "markdown",
      "metadata": {
        "id": "oHcg2oYRTbJy"
      },
      "source": [
        "#### 7) Veja se há relação entre APGAR5 e o peso do bebê. Isso pode ser feito de diversas formas. Fique à vontade para escolher a melhor maneira na sua opinião, ou até testar mais de um dos gráficos que vimos. Fique à vontade também para consultar a documentação e utilizar algum outro recurso se achar conveniente."
      ]
    },
    {
      "cell_type": "code",
      "execution_count": 28,
      "metadata": {
        "id": "glj66_ZOTbJz",
        "colab": {
          "base_uri": "https://localhost:8080/",
          "height": 466
        },
        "outputId": "8fe12253-d37a-4ac9-8d0f-8a3407912898"
      },
      "outputs": [
        {
          "output_type": "execute_result",
          "data": {
            "text/plain": [
              "<Axes: xlabel='APGAR5', ylabel='PESO'>"
            ]
          },
          "metadata": {},
          "execution_count": 28
        },
        {
          "output_type": "display_data",
          "data": {
            "text/plain": [
              "<Figure size 640x480 with 1 Axes>"
            ],
            "image/png": "[encoded data removed]"
          },
          "metadata": {}
        }
      ],
      "source": [
        "ax = sns.boxplot(x='APGAR5', y='PESO', data=df)\n",
        "sns.lineplot(x='APGAR5', y='PESO', data=df)\n"
      ]
    },
    {
      "cell_type": "markdown",
      "source": [
        "Pelo gráfico, podemos observar que, com exceção de APGAR5=2.0, o peso médio dos bebês é crescente. Também notamos que, quanto maior o APGAR5, mais concentrados os pesos dos bebês."
      ],
      "metadata": {
        "id": "_k3auZhcP_Lt"
      }
    }
  ],
  "metadata": {
    "kernelspec": {
      "display_name": "Python 3",
      "language": "python",
      "name": "python3"
    },
    "language_info": {
      "codemirror_mode": {
        "name": "ipython",
        "version": 3
      },
      "file_extension": ".py",
      "mimetype": "text/x-python",
      "name": "python",
      "nbconvert_exporter": "python",
      "pygments_lexer": "ipython3",
      "version": "3.8.5"
    },
    "colab": {
      "provenance": []
    }
  },
  "nbformat": 4,
  "nbformat_minor": 0
}