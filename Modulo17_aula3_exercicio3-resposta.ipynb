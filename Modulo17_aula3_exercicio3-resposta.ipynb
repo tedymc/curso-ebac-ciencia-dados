{
  "cells": [
    {
      "cell_type": "markdown",
      "metadata": {
        "id": "8n7w_gujiJWI"
      },
      "source": [
        "![image.png](attachment:image.png)"
      ]
    },
    {
      "cell_type": "markdown",
      "metadata": {
        "id": "V7WmczXIiJWL"
      },
      "source": [
        "# Árvores II - Tarefa 3"
      ]
    },
    {
      "cell_type": "markdown",
      "metadata": {
        "id": "K9Pm9bUyiJWM"
      },
      "source": [
        "### 1. Carregar as bases\n",
        "\n",
        "Vamos utilizar nesta tarefa as bases de reconhecimento de atividade humana através do celular. Carregue novamente as bases salvas na tarefa I."
      ]
    },
    {
      "cell_type": "code",
      "execution_count": 66,
      "metadata": {
        "id": "n5KmRqP-iJWM"
      },
      "outputs": [],
      "source": [
        "import pandas as pd\n",
        "import seaborn as sns\n",
        "import matplotlib.pyplot as plt\n",
        "import numpy as np\n",
        "from sklearn.tree import DecisionTreeClassifier\n",
        "from sklearn.model_selection import train_test_split\n",
        "from sklearn.metrics import confusion_matrix, ConfusionMatrixDisplay\n",
        "from sklearn.model_selection import GridSearchCV"
      ]
    },
    {
      "cell_type": "code",
      "execution_count": 67,
      "metadata": {
        "colab": {
          "base_uri": "https://localhost:8080/",
          "height": 455
        },
        "id": "NTedUlXIiJWN",
        "outputId": "20ac0eac-08df-4412-b926-dfea1b680758"
      },
      "outputs": [
        {
          "output_type": "execute_result",
          "data": {
            "text/plain": [
              "1                 tGravityAcc-mean()-X  fBodyAccJerk-bandsEnergy()-1,24  \\\n",
              "index subject_id                                                          \n",
              "0     1                       0.963396                        -0.999981   \n",
              "1     1                       0.966561                        -0.999974   \n",
              "2     1                       0.966878                        -0.999909   \n",
              "3     1                       0.967615                        -0.999927   \n",
              "4     1                       0.968224                        -0.999975   \n",
              "...                                ...                              ...   \n",
              "7347  30                      0.923148                        -0.724214   \n",
              "7348  30                      0.918343                        -0.767363   \n",
              "7349  30                      0.919810                        -0.757269   \n",
              "7350  30                      0.922323                        -0.780800   \n",
              "7351  30                      0.918707                        -0.759098   \n",
              "\n",
              "1                 angle(Y,gravityMean)  \n",
              "index subject_id                        \n",
              "0     1                       0.179941  \n",
              "1     1                       0.180289  \n",
              "2     1                       0.180637  \n",
              "3     1                       0.181935  \n",
              "4     1                       0.185151  \n",
              "...                                ...  \n",
              "7347  30                      0.238604  \n",
              "7348  30                      0.252676  \n",
              "7349  30                      0.249145  \n",
              "7350  30                      0.246432  \n",
              "7351  30                      0.246809  \n",
              "\n",
              "[7352 rows x 3 columns]"
            ],
            "text/html": [
              "\n",
              "  <div id=\"df-38f3a81c-191c-407e-aabd-84edb4a0c5e8\" class=\"colab-df-container\">\n",
              "    <div>\n",
              "<style scoped>\n",
              "    .dataframe tbody tr th:only-of-type {\n",
              "        vertical-align: middle;\n",
              "    }\n",
              "\n",
              "    .dataframe tbody tr th {\n",
              "        vertical-align: top;\n",
              "    }\n",
              "\n",
              "    .dataframe thead th {\n",
              "        text-align: right;\n",
              "    }\n",
              "</style>\n",
              "<table border=\"1\" class=\"dataframe\">\n",
              "  <thead>\n",
              "    <tr style=\"text-align: right;\">\n",
              "      <th></th>\n",
              "      <th>1</th>\n",
              "      <th>tGravityAcc-mean()-X</th>\n",
              "      <th>fBodyAccJerk-bandsEnergy()-1,24</th>\n",
              "      <th>angle(Y,gravityMean)</th>\n",
              "    </tr>\n",
              "    <tr>\n",
              "      <th>index</th>\n",
              "      <th>subject_id</th>\n",
              "      <th></th>\n",
              "      <th></th>\n",
              "      <th></th>\n",
              "    </tr>\n",
              "  </thead>\n",
              "  <tbody>\n",
              "    <tr>\n",
              "      <th>0</th>\n",
              "      <th>1</th>\n",
              "      <td>0.963396</td>\n",
              "      <td>-0.999981</td>\n",
              "      <td>0.179941</td>\n",
              "    </tr>\n",
              "    <tr>\n",
              "      <th>1</th>\n",
              "      <th>1</th>\n",
              "      <td>0.966561</td>\n",
              "      <td>-0.999974</td>\n",
              "      <td>0.180289</td>\n",
              "    </tr>\n",
              "    <tr>\n",
              "      <th>2</th>\n",
              "      <th>1</th>\n",
              "      <td>0.966878</td>\n",
              "      <td>-0.999909</td>\n",
              "      <td>0.180637</td>\n",
              "    </tr>\n",
              "    <tr>\n",
              "      <th>3</th>\n",
              "      <th>1</th>\n",
              "      <td>0.967615</td>\n",
              "      <td>-0.999927</td>\n",
              "      <td>0.181935</td>\n",
              "    </tr>\n",
              "    <tr>\n",
              "      <th>4</th>\n",
              "      <th>1</th>\n",
              "      <td>0.968224</td>\n",
              "      <td>-0.999975</td>\n",
              "      <td>0.185151</td>\n",
              "    </tr>\n",
              "    <tr>\n",
              "      <th>...</th>\n",
              "      <th>...</th>\n",
              "      <td>...</td>\n",
              "      <td>...</td>\n",
              "      <td>...</td>\n",
              "    </tr>\n",
              "    <tr>\n",
              "      <th>7347</th>\n",
              "      <th>30</th>\n",
              "      <td>0.923148</td>\n",
              "      <td>-0.724214</td>\n",
              "      <td>0.238604</td>\n",
              "    </tr>\n",
              "    <tr>\n",
              "      <th>7348</th>\n",
              "      <th>30</th>\n",
              "      <td>0.918343</td>\n",
              "      <td>-0.767363</td>\n",
              "      <td>0.252676</td>\n",
              "    </tr>\n",
              "    <tr>\n",
              "      <th>7349</th>\n",
              "      <th>30</th>\n",
              "      <td>0.919810</td>\n",
              "      <td>-0.757269</td>\n",
              "      <td>0.249145</td>\n",
              "    </tr>\n",
              "    <tr>\n",
              "      <th>7350</th>\n",
              "      <th>30</th>\n",
              "      <td>0.922323</td>\n",
              "      <td>-0.780800</td>\n",
              "      <td>0.246432</td>\n",
              "    </tr>\n",
              "    <tr>\n",
              "      <th>7351</th>\n",
              "      <th>30</th>\n",
              "      <td>0.918707</td>\n",
              "      <td>-0.759098</td>\n",
              "      <td>0.246809</td>\n",
              "    </tr>\n",
              "  </tbody>\n",
              "</table>\n",
              "<p>7352 rows × 3 columns</p>\n",
              "</div>\n",
              "    <div class=\"colab-df-buttons\">\n",
              "\n",
              "  <div class=\"colab-df-container\">\n",
              "    <button class=\"colab-df-convert\" onclick=\"convertToInteractive('df-38f3a81c-191c-407e-aabd-84edb4a0c5e8')\"\n",
              "            title=\"Convert this dataframe to an interactive table.\"\n",
              "            style=\"display:none;\">\n",
              "\n",
              "  <svg xmlns=\"http://www.w3.org/2000/svg\" height=\"24px\" viewBox=\"0 -960 960 960\">\n",
              "    <path d=\"M120-120v-720h720v720H120Zm60-500h600v-160H180v160Zm220 220h160v-160H400v160Zm0 220h160v-160H400v160ZM180-400h160v-160H180v160Zm440 0h160v-160H620v160ZM180-180h160v-160H180v160Zm440 0h160v-160H620v160Z\"/>\n",
              "  </svg>\n",
              "    </button>\n",
              "\n",
              "  <style>\n",
              "    .colab-df-container {\n",
              "      display:flex;\n",
              "      gap: 12px;\n",
              "    }\n",
              "\n",
              "    .colab-df-convert {\n",
              "      background-color: #E8F0FE;\n",
              "      border: none;\n",
              "      border-radius: 50%;\n",
              "      cursor: pointer;\n",
              "      display: none;\n",
              "      fill: #1967D2;\n",
              "      height: 32px;\n",
              "      padding: 0 0 0 0;\n",
              "      width: 32px;\n",
              "    }\n",
              "\n",
              "    .colab-df-convert:hover {\n",
              "      background-color: #E2EBFA;\n",
              "      box-shadow: 0px 1px 2px rgba(60, 64, 67, 0.3), 0px 1px 3px 1px rgba(60, 64, 67, 0.15);\n",
              "      fill: #174EA6;\n",
              "    }\n",
              "\n",
              "    .colab-df-buttons div {\n",
              "      margin-bottom: 4px;\n",
              "    }\n",
              "\n",
              "    [theme=dark] .colab-df-convert {\n",
              "      background-color: #3B4455;\n",
              "      fill: #D2E3FC;\n",
              "    }\n",
              "\n",
              "    [theme=dark] .colab-df-convert:hover {\n",
              "      background-color: #434B5C;\n",
              "      box-shadow: 0px 1px 3px 1px rgba(0, 0, 0, 0.15);\n",
              "      filter: drop-shadow(0px 1px 2px rgba(0, 0, 0, 0.3));\n",
              "      fill: #FFFFFF;\n",
              "    }\n",
              "  </style>\n",
              "\n",
              "    <script>\n",
              "      const buttonEl =\n",
              "        document.querySelector('#df-38f3a81c-191c-407e-aabd-84edb4a0c5e8 button.colab-df-convert');\n",
              "      buttonEl.style.display =\n",
              "        google.colab.kernel.accessAllowed ? 'block' : 'none';\n",
              "\n",
              "      async function convertToInteractive(key) {\n",
              "        const element = document.querySelector('#df-38f3a81c-191c-407e-aabd-84edb4a0c5e8');\n",
              "        const dataTable =\n",
              "          await google.colab.kernel.invokeFunction('convertToInteractive',\n",
              "                                                    [key], {});\n",
              "        if (!dataTable) return;\n",
              "\n",
              "        const docLinkHtml = 'Like what you see? Visit the ' +\n",
              "          '<a target=\"_blank\" href=https://colab.research.google.com/notebooks/data_table.ipynb>data table notebook</a>'\n",
              "          + ' to learn more about interactive tables.';\n",
              "        element.innerHTML = '';\n",
              "        dataTable['output_type'] = 'display_data';\n",
              "        await google.colab.output.renderOutput(dataTable, element);\n",
              "        const docLink = document.createElement('div');\n",
              "        docLink.innerHTML = docLinkHtml;\n",
              "        element.appendChild(docLink);\n",
              "      }\n",
              "    </script>\n",
              "  </div>\n",
              "\n",
              "\n",
              "<div id=\"df-1e564fe3-8579-4b50-8f26-1fb62ee01989\">\n",
              "  <button class=\"colab-df-quickchart\" onclick=\"quickchart('df-1e564fe3-8579-4b50-8f26-1fb62ee01989')\"\n",
              "            title=\"Suggest charts.\"\n",
              "            style=\"display:none;\">\n",
              "\n",
              "<svg xmlns=\"http://www.w3.org/2000/svg\" height=\"24px\"viewBox=\"0 0 24 24\"\n",
              "     width=\"24px\">\n",
              "    <g>\n",
              "        <path d=\"M19 3H5c-1.1 0-2 .9-2 2v14c0 1.1.9 2 2 2h14c1.1 0 2-.9 2-2V5c0-1.1-.9-2-2-2zM9 17H7v-7h2v7zm4 0h-2V7h2v10zm4 0h-2v-4h2v4z\"/>\n",
              "    </g>\n",
              "</svg>\n",
              "  </button>\n",
              "\n",
              "<style>\n",
              "  .colab-df-quickchart {\n",
              "      --bg-color: #E8F0FE;\n",
              "      --fill-color: #1967D2;\n",
              "      --hover-bg-color: #E2EBFA;\n",
              "      --hover-fill-color: #174EA6;\n",
              "      --disabled-fill-color: #AAA;\n",
              "      --disabled-bg-color: #DDD;\n",
              "  }\n",
              "\n",
              "  [theme=dark] .colab-df-quickchart {\n",
              "      --bg-color: #3B4455;\n",
              "      --fill-color: #D2E3FC;\n",
              "      --hover-bg-color: #434B5C;\n",
              "      --hover-fill-color: #FFFFFF;\n",
              "      --disabled-bg-color: #3B4455;\n",
              "      --disabled-fill-color: #666;\n",
              "  }\n",
              "\n",
              "  .colab-df-quickchart {\n",
              "    background-color: var(--bg-color);\n",
              "    border: none;\n",
              "    border-radius: 50%;\n",
              "    cursor: pointer;\n",
              "    display: none;\n",
              "    fill: var(--fill-color);\n",
              "    height: 32px;\n",
              "    padding: 0;\n",
              "    width: 32px;\n",
              "  }\n",
              "\n",
              "  .colab-df-quickchart:hover {\n",
              "    background-color: var(--hover-bg-color);\n",
              "    box-shadow: 0 1px 2px rgba(60, 64, 67, 0.3), 0 1px 3px 1px rgba(60, 64, 67, 0.15);\n",
              "    fill: var(--button-hover-fill-color);\n",
              "  }\n",
              "\n",
              "  .colab-df-quickchart-complete:disabled,\n",
              "  .colab-df-quickchart-complete:disabled:hover {\n",
              "    background-color: var(--disabled-bg-color);\n",
              "    fill: var(--disabled-fill-color);\n",
              "    box-shadow: none;\n",
              "  }\n",
              "\n",
              "  .colab-df-spinner {\n",
              "    border: 2px solid var(--fill-color);\n",
              "    border-color: transparent;\n",
              "    border-bottom-color: var(--fill-color);\n",
              "    animation:\n",
              "      spin 1s steps(1) infinite;\n",
              "  }\n",
              "\n",
              "  @keyframes spin {\n",
              "    0% {\n",
              "      border-color: transparent;\n",
              "      border-bottom-color: var(--fill-color);\n",
              "      border-left-color: var(--fill-color);\n",
              "    }\n",
              "    20% {\n",
              "      border-color: transparent;\n",
              "      border-left-color: var(--fill-color);\n",
              "      border-top-color: var(--fill-color);\n",
              "    }\n",
              "    30% {\n",
              "      border-color: transparent;\n",
              "      border-left-color: var(--fill-color);\n",
              "      border-top-color: var(--fill-color);\n",
              "      border-right-color: var(--fill-color);\n",
              "    }\n",
              "    40% {\n",
              "      border-color: transparent;\n",
              "      border-right-color: var(--fill-color);\n",
              "      border-top-color: var(--fill-color);\n",
              "    }\n",
              "    60% {\n",
              "      border-color: transparent;\n",
              "      border-right-color: var(--fill-color);\n",
              "    }\n",
              "    80% {\n",
              "      border-color: transparent;\n",
              "      border-right-color: var(--fill-color);\n",
              "      border-bottom-color: var(--fill-color);\n",
              "    }\n",
              "    90% {\n",
              "      border-color: transparent;\n",
              "      border-bottom-color: var(--fill-color);\n",
              "    }\n",
              "  }\n",
              "</style>\n",
              "\n",
              "  <script>\n",
              "    async function quickchart(key) {\n",
              "      const quickchartButtonEl =\n",
              "        document.querySelector('#' + key + ' button');\n",
              "      quickchartButtonEl.disabled = true;  // To prevent multiple clicks.\n",
              "      quickchartButtonEl.classList.add('colab-df-spinner');\n",
              "      try {\n",
              "        const charts = await google.colab.kernel.invokeFunction(\n",
              "            'suggestCharts', [key], {});\n",
              "      } catch (error) {\n",
              "        console.error('Error during call to suggestCharts:', error);\n",
              "      }\n",
              "      quickchartButtonEl.classList.remove('colab-df-spinner');\n",
              "      quickchartButtonEl.classList.add('colab-df-quickchart-complete');\n",
              "    }\n",
              "    (() => {\n",
              "      let quickchartButtonEl =\n",
              "        document.querySelector('#df-1e564fe3-8579-4b50-8f26-1fb62ee01989 button');\n",
              "      quickchartButtonEl.style.display =\n",
              "        google.colab.kernel.accessAllowed ? 'block' : 'none';\n",
              "    })();\n",
              "  </script>\n",
              "</div>\n",
              "    </div>\n",
              "  </div>\n"
            ]
          },
          "metadata": {},
          "execution_count": 67
        }
      ],
      "source": [
        "def load_data(fn_subject, fn_x, fn_export):\n",
        "\n",
        "  df_features = pd.read_csv('features.txt', delimiter='\\s+', header=None)\n",
        "  df_subject = pd.read_csv(fn_subject, delimiter='\\s+', header=None)\n",
        "  df_x = pd.read_csv(fn_x, delimiter='\\s+', header=None)\n",
        "\n",
        "  df_x.columns = df_features[1]\n",
        "  df_x['subject_id'] = df_subject[0]\n",
        "\n",
        "  df_x = df_x.reset_index()\n",
        "  df_x = df_x.set_index(['index', 'subject_id'])\n",
        "\n",
        "  return df_x\n",
        "\n",
        "# os indices das colunas com as melhores variaveis\n",
        "df_best_features = [40, 393, 559]\n",
        "\n",
        "df_x_train = load_data('subject_train.txt', 'X_train.txt', 'df_x_train.csv').iloc[:,df_best_features]\n",
        "df_y_train = pd.read_csv('y_train.txt', delimiter='\\s+', header=None)\n",
        "\n",
        "df_x_test = load_data('subject_test.txt', 'X_test.txt', 'df_x_test.csv').iloc[:,df_best_features]\n",
        "df_y_test = pd.read_csv('y_test.txt', delimiter='\\s+', header=None)\n",
        "\n",
        "#verificando com exercicio 2\n",
        "#df_x_train.loc[df_x_train.index.get_level_values('index') == 3229]\n",
        "df_x_train"
      ]
    },
    {
      "cell_type": "markdown",
      "metadata": {
        "id": "yK7BJYsUiJWN"
      },
      "source": [
        "### 2. Calcule os ```ccp_alphas```.\n",
        "\n",
        "Vamos seguir uma lógica bem em linha com o que já estamso acostumados, com as seguintes orientações:\n",
        "\n",
        "- Utilizar treinamento e teste conforme já vieram definidos originalmente\n",
        "- Por pragmatismo, utilizar ```min_samples_leaf=20```\n",
        "- Utilize as mesmas \"3 melhores variáveis\" identificadas no exercício anterior."
      ]
    },
    {
      "cell_type": "code",
      "execution_count": 68,
      "metadata": {
        "colab": {
          "base_uri": "https://localhost:8080/"
        },
        "id": "Yx7Ce1qpiJWO",
        "outputId": "e73a6147-447d-49bc-dbbe-6ac89f903e67"
      },
      "outputs": [
        {
          "output_type": "stream",
          "name": "stdout",
          "text": [
            "CPU times: user 24.9 ms, sys: 0 ns, total: 24.9 ms\n",
            "Wall time: 25 ms\n"
          ]
        },
        {
          "output_type": "execute_result",
          "data": {
            "text/plain": [
              "array([0.00000000e+00, 5.44995104e-06, 5.73823449e-06, 6.59966132e-06,\n",
              "       6.96674540e-06, 7.12472149e-06, 7.50826033e-06, 8.23946945e-06,\n",
              "       8.46330553e-06, 1.04605917e-05, 1.08934148e-05, 1.13347842e-05,\n",
              "       1.19905305e-05, 1.23595729e-05, 1.42961242e-05, 2.20048389e-05,\n",
              "       2.91013994e-05, 2.94704389e-05, 3.07517623e-05, 3.17373957e-05,\n",
              "       3.17373957e-05, 3.74047878e-05, 4.54351696e-05, 4.64103361e-05,\n",
              "       4.85876625e-05, 5.47308151e-05, 7.56500873e-05, 8.42012540e-05,\n",
              "       8.88760179e-05, 9.21188146e-05, 9.53041198e-05, 9.76852310e-05,\n",
              "       9.95342357e-05, 1.11080885e-04, 1.11856423e-04, 1.42364889e-04,\n",
              "       1.48657412e-04, 1.48821476e-04, 1.52216806e-04, 1.63220892e-04,\n",
              "       1.71258285e-04, 1.78922387e-04, 1.81158152e-04, 1.86284714e-04,\n",
              "       2.01596478e-04, 2.10268460e-04, 2.21939830e-04, 2.36266759e-04,\n",
              "       2.65253663e-04, 2.66087739e-04, 2.85831802e-04, 2.89776222e-04,\n",
              "       2.99307199e-04, 3.00529208e-04, 3.01137746e-04, 3.07128490e-04,\n",
              "       3.57710564e-04, 3.61421217e-04, 3.64945175e-04, 3.99491640e-04,\n",
              "       4.03246735e-04, 4.23098081e-04, 4.39402570e-04, 4.41893883e-04,\n",
              "       4.62099949e-04, 4.63461510e-04, 4.68871452e-04, 4.80342176e-04,\n",
              "       5.03923287e-04, 5.06171178e-04, 5.23998779e-04, 5.47232429e-04,\n",
              "       5.57451999e-04, 5.69569285e-04, 5.78468250e-04, 6.26719742e-04,\n",
              "       6.30765782e-04, 6.36021804e-04, 6.68057972e-04, 6.73316919e-04,\n",
              "       7.22223744e-04, 7.71614349e-04, 7.96635467e-04, 7.97452003e-04,\n",
              "       8.79611941e-04, 8.86898708e-04, 9.00689311e-04, 9.23236912e-04,\n",
              "       9.64393376e-04, 1.04215101e-03, 1.05370056e-03, 1.14396984e-03,\n",
              "       1.16534615e-03, 1.20133204e-03, 1.25126209e-03, 1.31415660e-03,\n",
              "       1.40661682e-03, 1.50206440e-03, 1.53363543e-03, 1.61687237e-03,\n",
              "       1.80679135e-03, 1.81536232e-03, 1.85203504e-03, 1.87212391e-03,\n",
              "       1.93520433e-03, 2.01517534e-03, 2.11510258e-03, 2.28266048e-03,\n",
              "       2.30144574e-03, 2.91616380e-03, 2.92868059e-03, 3.17131733e-03,\n",
              "       3.27137930e-03, 3.28271577e-03, 4.24854055e-03, 4.35846055e-03,\n",
              "       4.38002059e-03, 7.11283714e-03, 8.24712763e-03, 1.24551166e-02,\n",
              "       3.51726117e-02, 4.67250302e-02, 1.09327768e-01, 1.67217273e-01,\n",
              "       1.85974665e-01])"
            ]
          },
          "metadata": {},
          "execution_count": 68
        }
      ],
      "source": [
        "%%time\n",
        "clf = DecisionTreeClassifier(random_state=1000, min_samples_leaf=20)\n",
        "path = clf.cost_complexity_pruning_path(df_x_train, df_y_train)\n",
        "ccp_alphas = path.ccp_alphas\n",
        "ccp_alphas"
      ]
    },
    {
      "cell_type": "markdown",
      "metadata": {
        "id": "619Z1mB6iJWO"
      },
      "source": [
        "### 3. *Grid Search*\n",
        "\n",
        "Vou deixar especificações iniciais mínimas, que visam limitar o tempo de máquina, pois um procedimento desses pode demorar muito tempo dependendo da especificação. Mas conforme você for ficando confortável com o tempo consumido pelo procedimento, pode fazer um algoritmo mais exaustivo, por exemplo, avaliando mais valores de ```ccp_alpha```.\n",
        "\n",
        "- Meça o tempo\n",
        "- Utilize a base de treinamento\n",
        "- Utilize um *cross validation* do tipo *k-fold*, especifique k=10\n",
        "- Você pode ler 1 a cada ```k``` valores para uma melhor varredura utilizando, por exemplo, ```ccp_alpha[::10]```\n",
        "- Não se esqueça de limitar o número de variáveis"
      ]
    },
    {
      "cell_type": "code",
      "execution_count": 69,
      "metadata": {
        "colab": {
          "base_uri": "https://localhost:8080/",
          "height": 152
        },
        "id": "UFc1g-NgiJWO",
        "outputId": "3ee9c0f7-487b-44ce-a877-68ee17b5513f"
      },
      "outputs": [
        {
          "output_type": "stream",
          "name": "stdout",
          "text": [
            "CPU times: user 32.1 s, sys: 66 ms, total: 32.2 s\n",
            "Wall time: 32.4 s\n"
          ]
        },
        {
          "output_type": "execute_result",
          "data": {
            "text/plain": [
              "GridSearchCV(cv=10,\n",
              "             estimator=DecisionTreeClassifier(min_samples_leaf=20,\n",
              "                                              random_state=1000),\n",
              "             param_grid={'ccp_alpha': array([0.00000000e+00, 5.44995104e-06, 5.73823449e-06, 6.59966132e-06,\n",
              "       6.96674540e-06, 7.12472149e-06, 7.50826033e-06, 8.23946945e-06,\n",
              "       8.46330553e-06, 1.04605917e-05, 1.08934148e-05, 1.13347842e-05,\n",
              "       1.19905305e-05, 1.23595729e-05, 1.42961242e-05, 2.2...\n",
              "       1.80679135e-03, 1.81536232e-03, 1.85203504e-03, 1.87212391e-03,\n",
              "       1.93520433e-03, 2.01517534e-03, 2.11510258e-03, 2.28266048e-03,\n",
              "       2.30144574e-03, 2.91616380e-03, 2.92868059e-03, 3.17131733e-03,\n",
              "       3.27137930e-03, 3.28271577e-03, 4.24854055e-03, 4.35846055e-03,\n",
              "       4.38002059e-03, 7.11283714e-03, 8.24712763e-03, 1.24551166e-02,\n",
              "       3.51726117e-02, 4.67250302e-02, 1.09327768e-01, 1.67217273e-01,\n",
              "       1.85974665e-01])})"
            ],
            "text/html": [
              "<style>#sk-container-id-4 {color: black;background-color: white;}#sk-container-id-4 pre{padding: 0;}#sk-container-id-4 div.sk-toggleable {background-color: white;}#sk-container-id-4 label.sk-toggleable__label {cursor: pointer;display: block;width: 100%;margin-bottom: 0;padding: 0.3em;box-sizing: border-box;text-align: center;}#sk-container-id-4 label.sk-toggleable__label-arrow:before {content: \"▸\";float: left;margin-right: 0.25em;color: #696969;}#sk-container-id-4 label.sk-toggleable__label-arrow:hover:before {color: black;}#sk-container-id-4 div.sk-estimator:hover label.sk-toggleable__label-arrow:before {color: black;}#sk-container-id-4 div.sk-toggleable__content {max-height: 0;max-width: 0;overflow: hidden;text-align: left;background-color: #f0f8ff;}#sk-container-id-4 div.sk-toggleable__content pre {margin: 0.2em;color: black;border-radius: 0.25em;background-color: #f0f8ff;}#sk-container-id-4 input.sk-toggleable__control:checked~div.sk-toggleable__content {max-height: 200px;max-width: 100%;overflow: auto;}#sk-container-id-4 input.sk-toggleable__control:checked~label.sk-toggleable__label-arrow:before {content: \"▾\";}#sk-container-id-4 div.sk-estimator input.sk-toggleable__control:checked~label.sk-toggleable__label {background-color: #d4ebff;}#sk-container-id-4 div.sk-label input.sk-toggleable__control:checked~label.sk-toggleable__label {background-color: #d4ebff;}#sk-container-id-4 input.sk-hidden--visually {border: 0;clip: rect(1px 1px 1px 1px);clip: rect(1px, 1px, 1px, 1px);height: 1px;margin: -1px;overflow: hidden;padding: 0;position: absolute;width: 1px;}#sk-container-id-4 div.sk-estimator {font-family: monospace;background-color: #f0f8ff;border: 1px dotted black;border-radius: 0.25em;box-sizing: border-box;margin-bottom: 0.5em;}#sk-container-id-4 div.sk-estimator:hover {background-color: #d4ebff;}#sk-container-id-4 div.sk-parallel-item::after {content: \"\";width: 100%;border-bottom: 1px solid gray;flex-grow: 1;}#sk-container-id-4 div.sk-label:hover label.sk-toggleable__label {background-color: #d4ebff;}#sk-container-id-4 div.sk-serial::before {content: \"\";position: absolute;border-left: 1px solid gray;box-sizing: border-box;top: 0;bottom: 0;left: 50%;z-index: 0;}#sk-container-id-4 div.sk-serial {display: flex;flex-direction: column;align-items: center;background-color: white;padding-right: 0.2em;padding-left: 0.2em;position: relative;}#sk-container-id-4 div.sk-item {position: relative;z-index: 1;}#sk-container-id-4 div.sk-parallel {display: flex;align-items: stretch;justify-content: center;background-color: white;position: relative;}#sk-container-id-4 div.sk-item::before, #sk-container-id-4 div.sk-parallel-item::before {content: \"\";position: absolute;border-left: 1px solid gray;box-sizing: border-box;top: 0;bottom: 0;left: 50%;z-index: -1;}#sk-container-id-4 div.sk-parallel-item {display: flex;flex-direction: column;z-index: 1;position: relative;background-color: white;}#sk-container-id-4 div.sk-parallel-item:first-child::after {align-self: flex-end;width: 50%;}#sk-container-id-4 div.sk-parallel-item:last-child::after {align-self: flex-start;width: 50%;}#sk-container-id-4 div.sk-parallel-item:only-child::after {width: 0;}#sk-container-id-4 div.sk-dashed-wrapped {border: 1px dashed gray;margin: 0 0.4em 0.5em 0.4em;box-sizing: border-box;padding-bottom: 0.4em;background-color: white;}#sk-container-id-4 div.sk-label label {font-family: monospace;font-weight: bold;display: inline-block;line-height: 1.2em;}#sk-container-id-4 div.sk-label-container {text-align: center;}#sk-container-id-4 div.sk-container {/* jupyter's `normalize.less` sets `[hidden] { display: none; }` but bootstrap.min.css set `[hidden] { display: none !important; }` so we also need the `!important` here to be able to override the default hidden behavior on the sphinx rendered scikit-learn.org. See: https://github.com/scikit-learn/scikit-learn/issues/21755 */display: inline-block !important;position: relative;}#sk-container-id-4 div.sk-text-repr-fallback {display: none;}</style><div id=\"sk-container-id-4\" class=\"sk-top-container\"><div class=\"sk-text-repr-fallback\"><pre>GridSearchCV(cv=10,\n",
              "             estimator=DecisionTreeClassifier(min_samples_leaf=20,\n",
              "                                              random_state=1000),\n",
              "             param_grid={&#x27;ccp_alpha&#x27;: array([0.00000000e+00, 5.44995104e-06, 5.73823449e-06, 6.59966132e-06,\n",
              "       6.96674540e-06, 7.12472149e-06, 7.50826033e-06, 8.23946945e-06,\n",
              "       8.46330553e-06, 1.04605917e-05, 1.08934148e-05, 1.13347842e-05,\n",
              "       1.19905305e-05, 1.23595729e-05, 1.42961242e-05, 2.2...\n",
              "       1.80679135e-03, 1.81536232e-03, 1.85203504e-03, 1.87212391e-03,\n",
              "       1.93520433e-03, 2.01517534e-03, 2.11510258e-03, 2.28266048e-03,\n",
              "       2.30144574e-03, 2.91616380e-03, 2.92868059e-03, 3.17131733e-03,\n",
              "       3.27137930e-03, 3.28271577e-03, 4.24854055e-03, 4.35846055e-03,\n",
              "       4.38002059e-03, 7.11283714e-03, 8.24712763e-03, 1.24551166e-02,\n",
              "       3.51726117e-02, 4.67250302e-02, 1.09327768e-01, 1.67217273e-01,\n",
              "       1.85974665e-01])})</pre><b>In a Jupyter environment, please rerun this cell to show the HTML representation or trust the notebook. <br />On GitHub, the HTML representation is unable to render, please try loading this page with nbviewer.org.</b></div><div class=\"sk-container\" hidden><div class=\"sk-item sk-dashed-wrapped\"><div class=\"sk-label-container\"><div class=\"sk-label sk-toggleable\"><input class=\"sk-toggleable__control sk-hidden--visually\" id=\"sk-estimator-id-10\" type=\"checkbox\" ><label for=\"sk-estimator-id-10\" class=\"sk-toggleable__label sk-toggleable__label-arrow\">GridSearchCV</label><div class=\"sk-toggleable__content\"><pre>GridSearchCV(cv=10,\n",
              "             estimator=DecisionTreeClassifier(min_samples_leaf=20,\n",
              "                                              random_state=1000),\n",
              "             param_grid={&#x27;ccp_alpha&#x27;: array([0.00000000e+00, 5.44995104e-06, 5.73823449e-06, 6.59966132e-06,\n",
              "       6.96674540e-06, 7.12472149e-06, 7.50826033e-06, 8.23946945e-06,\n",
              "       8.46330553e-06, 1.04605917e-05, 1.08934148e-05, 1.13347842e-05,\n",
              "       1.19905305e-05, 1.23595729e-05, 1.42961242e-05, 2.2...\n",
              "       1.80679135e-03, 1.81536232e-03, 1.85203504e-03, 1.87212391e-03,\n",
              "       1.93520433e-03, 2.01517534e-03, 2.11510258e-03, 2.28266048e-03,\n",
              "       2.30144574e-03, 2.91616380e-03, 2.92868059e-03, 3.17131733e-03,\n",
              "       3.27137930e-03, 3.28271577e-03, 4.24854055e-03, 4.35846055e-03,\n",
              "       4.38002059e-03, 7.11283714e-03, 8.24712763e-03, 1.24551166e-02,\n",
              "       3.51726117e-02, 4.67250302e-02, 1.09327768e-01, 1.67217273e-01,\n",
              "       1.85974665e-01])})</pre></div></div></div><div class=\"sk-parallel\"><div class=\"sk-parallel-item\"><div class=\"sk-item\"><div class=\"sk-label-container\"><div class=\"sk-label sk-toggleable\"><input class=\"sk-toggleable__control sk-hidden--visually\" id=\"sk-estimator-id-11\" type=\"checkbox\" ><label for=\"sk-estimator-id-11\" class=\"sk-toggleable__label sk-toggleable__label-arrow\">estimator: DecisionTreeClassifier</label><div class=\"sk-toggleable__content\"><pre>DecisionTreeClassifier(min_samples_leaf=20, random_state=1000)</pre></div></div></div><div class=\"sk-serial\"><div class=\"sk-item\"><div class=\"sk-estimator sk-toggleable\"><input class=\"sk-toggleable__control sk-hidden--visually\" id=\"sk-estimator-id-12\" type=\"checkbox\" ><label for=\"sk-estimator-id-12\" class=\"sk-toggleable__label sk-toggleable__label-arrow\">DecisionTreeClassifier</label><div class=\"sk-toggleable__content\"><pre>DecisionTreeClassifier(min_samples_leaf=20, random_state=1000)</pre></div></div></div></div></div></div></div></div></div></div>"
            ]
          },
          "metadata": {},
          "execution_count": 69
        }
      ],
      "source": [
        "%%time\n",
        "grid_params = {'ccp_alpha': ccp_alphas}\n",
        "grid = GridSearchCV(estimator=clf, param_grid=grid_params, cv=10)\n",
        "grid.fit(df_x_train, df_y_train)"
      ]
    },
    {
      "cell_type": "markdown",
      "metadata": {
        "id": "xi510fFCiJWO"
      },
      "source": [
        "### 4. Avaliando a árvore\n",
        "\n",
        "- Obtenha a árvore na melhor configuração treinada em toda a base de treino\n",
        "- Calcule a acurácia dessa árvore na base de testes\n",
        "- Visualize a matriz de confusão"
      ]
    },
    {
      "cell_type": "code",
      "execution_count": 70,
      "metadata": {
        "colab": {
          "base_uri": "https://localhost:8080/"
        },
        "id": "ugk-5cmtiJWP",
        "outputId": "6788ea4b-40ac-4d1b-d751-44b69992f71f"
      },
      "outputs": [
        {
          "output_type": "stream",
          "name": "stdout",
          "text": [
            "Acurácia da melhor árvore na base de testes: 69.94\n"
          ]
        }
      ],
      "source": [
        "clf = DecisionTreeClassifier(random_state=1000, ccp_alpha=grid.best_params_['ccp_alpha']).fit(df_x_train, df_y_train)\n",
        "clf_score = clf.score(df_x_test, df_y_test)\n",
        "print(f'Acurácia da melhor árvore na base de testes: {clf_score*100:.2f}')"
      ]
    },
    {
      "cell_type": "code",
      "source": [
        "ConfusionMatrixDisplay.from_estimator(estimator=clf, X=df_x_test, y=df_y_test)"
      ],
      "metadata": {
        "colab": {
          "base_uri": "https://localhost:8080/",
          "height": 466
        },
        "id": "Y-No0orQsMo-",
        "outputId": "535a6b23-2131-4392-d750-a72b02034bf1"
      },
      "execution_count": 71,
      "outputs": [
        {
          "output_type": "execute_result",
          "data": {
            "text/plain": [
              "<sklearn.metrics._plot.confusion_matrix.ConfusionMatrixDisplay at 0x79fb442d4130>"
            ]
          },
          "metadata": {},
          "execution_count": 71
        },
        {
          "output_type": "display_data",
          "data": {
            "text/plain": [
              "<Figure size 640x480 with 2 Axes>"
            ],
            "image/png": "[encoded data removed]"
          },
          "metadata": {}
        }
      ]
    },
    {
      "cell_type": "markdown",
      "metadata": {
        "id": "M0PtX1WriJWP"
      },
      "source": [
        "### 5. Melhorando a árvore\n",
        "\n",
        "A melhor forma de se melhorar um algoritmo é colocando nele novas variáveis que agreguem valor. Podemos usar a força-bruta e ir colocando variáveis aleatoriamente - ou colocar todas e deixar rodando por um bom tempo - ou utilizar uma lógica eficiente e fazer uma seleção de variáveis.\n",
        "\n",
        "- Observe que há classes mais fáceis e mais difíceis de se identificar\n",
        "- Crie uma variável binária para uma das classes de maior erro\n",
        "- Fala uma árvore de classificação bem simples para esta variável:\n",
        "    - utilize ```mean_samples_leaf=20```\n",
        "    - utilize ```max_depth=4```\n",
        "    - coloque todas as variáveis\n",
        "- Observe a importância das variáveis, e selecione as 3 com maior importância\n",
        "- Rode novamente o algoritmo acima com as 3 novas variáveis e avalie a acurácia"
      ]
    },
    {
      "cell_type": "code",
      "execution_count": 72,
      "metadata": {
        "id": "mHvgjVgSiJWP"
      },
      "outputs": [],
      "source": [
        "df_x_train_base_c3 = load_data('subject_train.txt', 'X_train.txt', 'df_x_train.csv')\n",
        "df_y_train_base_c3 = pd.read_csv('y_train.txt', delimiter='\\s+', header=None)\n",
        "\n",
        "df_x_test_base_c3 = load_data('subject_test.txt', 'X_test.txt', 'df_x_test.csv')\n",
        "df_y_test_base_c3 = pd.read_csv('y_test.txt', delimiter='\\s+', header=None)\n"
      ]
    },
    {
      "cell_type": "markdown",
      "source": [
        "Pela confusion matrix, noto que\n",
        "- a classe 6 acertou todas\n",
        "- as classes 4 e 5 apresentam acurácia maior, mas valores preditos se confundem entre elas\n",
        "- as classes 1, 2 e 3 apresentam acurária menor, e os valores preditos se confundem entre elas\n",
        "\n",
        "Nota: há um método para calcular a acurácia para cada classe?"
      ],
      "metadata": {
        "id": "siM-CpOgwn9d"
      }
    },
    {
      "cell_type": "code",
      "source": [
        "df_x_train_c3 = df_x_train_base_c3\n",
        "df_y_train_c3 = (df_y_train_base_c3 == 3)\n",
        "df_y_train_c3.columns = ['is_class_3']\n",
        "df_y_train_c3['is_class_3']=df_y_train_c3['is_class_3'].astype(int)\n",
        "df_y_train_c3.value_counts(subset='is_class_3')"
      ],
      "metadata": {
        "colab": {
          "base_uri": "https://localhost:8080/"
        },
        "id": "TaVs2nC7xZ82",
        "outputId": "278e3f17-fa41-4d0d-e760-5a35f8f3cfb9"
      },
      "execution_count": 73,
      "outputs": [
        {
          "output_type": "execute_result",
          "data": {
            "text/plain": [
              "is_class_3\n",
              "0    6366\n",
              "1     986\n",
              "dtype: int64"
            ]
          },
          "metadata": {},
          "execution_count": 73
        }
      ]
    },
    {
      "cell_type": "code",
      "source": [
        "df_x_test_c3 = df_x_test_base_c3\n",
        "df_y_test_c3 = (df_y_test_base_c3 == 3)\n",
        "df_y_test_c3.columns = ['is_class_3']\n",
        "df_y_test_c3['is_class_3']=df_y_test_c3['is_class_3'].astype(int)\n",
        "df_y_test_c3.value_counts(subset='is_class_3')"
      ],
      "metadata": {
        "colab": {
          "base_uri": "https://localhost:8080/"
        },
        "id": "skySzZeE5632",
        "outputId": "a95c8ca1-e2af-4953-f015-e8a68212a44c"
      },
      "execution_count": 74,
      "outputs": [
        {
          "output_type": "execute_result",
          "data": {
            "text/plain": [
              "is_class_3\n",
              "0    2527\n",
              "1     420\n",
              "dtype: int64"
            ]
          },
          "metadata": {},
          "execution_count": 74
        }
      ]
    },
    {
      "cell_type": "code",
      "source": [
        "clf_ccp_alpha_c3 = DecisionTreeClassifier(random_state=2000, min_samples_leaf=20, max_depth=4)\n",
        "path_c3 = clf_ccp_alpha_c3.cost_complexity_pruning_path(df_x_train, df_y_train)\n",
        "ccp_alphas_c3 = path_c3.ccp_alphas"
      ],
      "metadata": {
        "id": "RrpohkqW3SG6"
      },
      "execution_count": 75,
      "outputs": []
    },
    {
      "cell_type": "code",
      "source": [
        "clfs_c3 = []\n",
        "for ccp_alpha_c3 in ccp_alphas_c3:\n",
        "    clf_c3 = DecisionTreeClassifier(random_state=2360873, ccp_alpha=ccp_alpha_c3).fit(df_x_train_c3, df_y_train_c3)\n",
        "    clfs_c3.append(clf_c3)\n",
        "\n",
        "train_scores_c3 = [clf_c3.score(df_x_train_c3, df_y_train_c3) for clf_c3 in clfs_c3]\n",
        "test_scores_c3  = [clf_c3.score(df_x_test_c3, df_y_test_c3) for clf_c3 in clfs_c3]\n",
        "\n",
        "ind_melhor_arvore_test_c3 = len(test_scores_c3) - test_scores_c3[::-1].index(max(test_scores_c3)) - 1\n",
        "melhor_arvore_c3 = clfs_c3[ind_melhor_arvore_test_c3]\n",
        "print(f'Acurácia da melhor árvore para identificar classe 3 na base de teste: {test_scores_c3[ind_melhor_arvore_test_c3]*100:.2f}')"
      ],
      "metadata": {
        "colab": {
          "base_uri": "https://localhost:8080/"
        },
        "id": "mhRb53Pk3_Dc",
        "outputId": "d94f747f-a294-48bc-d941-36ee101c6e8f"
      },
      "execution_count": 78,
      "outputs": [
        {
          "output_type": "stream",
          "name": "stdout",
          "text": [
            "Acurácia da melhor árvore para identificar classe 3 na base de teste: 94.94\n"
          ]
        }
      ]
    }
  ],
  "metadata": {
    "kernelspec": {
      "display_name": "Python 3",
      "language": "python",
      "name": "python3"
    },
    "language_info": {
      "codemirror_mode": {
        "name": "ipython",
        "version": 3
      },
      "file_extension": ".py",
      "mimetype": "text/x-python",
      "name": "python",
      "nbconvert_exporter": "python",
      "pygments_lexer": "ipython3",
      "version": "3.8.5"
    },
    "toc": {
      "base_numbering": 1,
      "nav_menu": {},
      "number_sections": false,
      "sideBar": true,
      "skip_h1_title": true,
      "title_cell": "Índice",
      "title_sidebar": "Conteúdo",
      "toc_cell": false,
      "toc_position": {},
      "toc_section_display": true,
      "toc_window_display": true
    },
    "varInspector": {
      "cols": {
        "lenName": 16,
        "lenType": 16,
        "lenVar": 40
      },
      "kernels_config": {
        "python": {
          "delete_cmd_postfix": "",
          "delete_cmd_prefix": "del ",
          "library": "var_list.py",
          "varRefreshCmd": "print(var_dic_list())"
        },
        "r": {
          "delete_cmd_postfix": ") ",
          "delete_cmd_prefix": "rm(",
          "library": "var_list.r",
          "varRefreshCmd": "cat(var_dic_list()) "
        }
      },
      "types_to_exclude": [
        "module",
        "function",
        "builtin_function_or_method",
        "instance",
        "_Feature"
      ],
      "window_display": false
    },
    "colab": {
      "provenance": []
    }
  },
  "nbformat": 4,
  "nbformat_minor": 0
}