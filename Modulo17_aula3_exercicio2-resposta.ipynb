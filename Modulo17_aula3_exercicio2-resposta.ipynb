{
  "cells": [
    {
      "cell_type": "markdown",
      "metadata": {
        "id": "T3o75t6oSg_0"
      },
      "source": [
        "# Árvores II - Tarefa 2"
      ]
    },
    {
      "cell_type": "markdown",
      "metadata": {
        "id": "-TLMhV1ySg_3"
      },
      "source": [
        "### 1. Carregar as bases\n",
        "\n",
        "Vamos carregar as bases lidas na tarefa passada. Se você salvou essas bases em arquivo texto, basta fazer a leitura com o comando ```pd.read_csv``` das seguintes bases:\n",
        "\n",
        "- X_train\n",
        "- Y_train\n",
        "- X_test\n",
        "- Y_test\n",
        "\n",
        "Não se esqueça de considerar a leitura dos índices dos arquivos no ```read_csv()```!"
      ]
    },
    {
      "cell_type": "code",
      "execution_count": 112,
      "metadata": {
        "id": "oz1Bj9_tSg_4"
      },
      "outputs": [],
      "source": [
        "import pandas as pd\n",
        "import seaborn as sns\n",
        "import matplotlib.pyplot as plt\n",
        "import numpy as np\n",
        "from sklearn.tree import DecisionTreeClassifier\n",
        "from sklearn.model_selection import train_test_split\n",
        "#from sklearn.metrics import plot_confusion_matrix"
      ]
    },
    {
      "cell_type": "code",
      "execution_count": 113,
      "metadata": {
        "id": "5s-MHNpaSg_6"
      },
      "outputs": [],
      "source": [
        "def load_data(fn_subject, fn_x, fn_export):\n",
        "\n",
        "  df_features = pd.read_csv('features.txt', delimiter='\\s+', header=None)\n",
        "  df_subject = pd.read_csv(fn_subject, delimiter='\\s+', header=None)\n",
        "  df_x = pd.read_csv(fn_x, delimiter='\\s+', header=None)\n",
        "\n",
        "  df_x.columns = df_features[1]\n",
        "#  df_x = df_x[['tBodyAcc-mean()-X', 'tBodyAcc-mean()-Y', 'tBodyAcc-mean()-Z']]\n",
        "  df_x['subject_id'] = df_subject[0]\n",
        "\n",
        "  df_x = df_x.reset_index()\n",
        "  df_x = df_x.set_index(['index', 'subject_id'])\n",
        "#  df_x.to_csv(fn_export)\n",
        "\n",
        "  return df_x\n",
        "\n",
        "df_x_train_base = load_data('subject_train.txt', 'X_train.txt', 'df_x_train.csv')\n",
        "df_y_train_base = pd.read_csv('y_train.txt', delimiter='\\s+', header=None)\n",
        "\n",
        "#df_x_test = load_data('subject_test.txt', 'X_test.txt', 'df_x_test.csv')\n",
        "#df_y_test = pd.read_csv('y_test.txt', delimiter='\\s+', header=None)"
      ]
    },
    {
      "cell_type": "markdown",
      "metadata": {
        "id": "pIY75SOnSg_6"
      },
      "source": [
        "### 2. Divisão da base em Treino, Validação e Teste\n",
        "\n",
        "A base já se encontra dividida em Treino e Validação. O que vamos fazer então é extrair uma base de Validação da base de Treino.\n",
        "\n",
        "Extraia 25% da base de treino como base de validação."
      ]
    },
    {
      "cell_type": "code",
      "execution_count": 114,
      "metadata": {
        "id": "TfOoXmwySg_6"
      },
      "outputs": [],
      "source": [
        "df_x_train, df_x_valid, df_y_train, df_y_valid = train_test_split(df_x_train_base, df_y_train_base, test_size=.25, random_state=1729)"
      ]
    },
    {
      "cell_type": "markdown",
      "metadata": {
        "id": "6qLGHbjVSg_6"
      },
      "source": [
        "### 3. Melhores 3 variáveis\n",
        "\n",
        "Rode uma árvore com profundidade máxima igual a 4 para prever a atividade humana com todas as variáveis.\n",
        "Observe a importância das variáveis e considere as 3 variáveis com maior importância para os próximos passos.\n",
        "Dica: utilize o atributo ```clf.feature_importances_``` da árvore treinada."
      ]
    },
    {
      "cell_type": "code",
      "execution_count": 115,
      "metadata": {
        "id": "ih4G_QcVSg_7"
      },
      "outputs": [],
      "source": [
        "clf = DecisionTreeClassifier(random_state=100, max_depth=4).fit(df_x_train, df_y_train)"
      ]
    },
    {
      "cell_type": "code",
      "source": [
        "#df_features = pd.DataFrame([clf.feature_importances_], columns=df_x_train.columns).T\n",
        "#precisei usar os índices da coluna pq tem feature com nome repetido\n",
        "\n",
        "df_features = pd.DataFrame({'feature_importance': clf.feature_importances_})\n",
        "df_best_features = df_features['feature_importance'].sort_values(ascending=False)[0:3]\n",
        "df_best_features.index"
      ],
      "metadata": {
        "colab": {
          "base_uri": "https://localhost:8080/"
        },
        "id": "ob5YJDQeazx7",
        "outputId": "350ea23b-2256-4f67-b6f6-2d48c37e8b1d"
      },
      "execution_count": 116,
      "outputs": [
        {
          "output_type": "execute_result",
          "data": {
            "text/plain": [
              "Int64Index([40, 393, 559], dtype='int64')"
            ]
          },
          "metadata": {},
          "execution_count": 116
        }
      ]
    },
    {
      "cell_type": "code",
      "source": [
        "df_x_train = df_x_train.iloc[:,df_best_features.index]\n",
        "df_x_train"
      ],
      "metadata": {
        "colab": {
          "base_uri": "https://localhost:8080/",
          "height": 455
        },
        "id": "4wO32MUmeuAZ",
        "outputId": "4f23fa14-1238-4be1-cc5d-4f67140764d9"
      },
      "execution_count": 117,
      "outputs": [
        {
          "output_type": "execute_result",
          "data": {
            "text/plain": [
              "1                 tGravityAcc-mean()-X  fBodyAccJerk-bandsEnergy()-1,24  \\\n",
              "index subject_id                                                          \n",
              "3229  16                      0.878431                        -0.888136   \n",
              "6988  30                      0.962831                        -0.999351   \n",
              "5189  25                      0.883538                        -0.889242   \n",
              "6263  28                      0.954383                        -0.999980   \n",
              "888   5                       0.978183                        -0.999280   \n",
              "...                                ...                              ...   \n",
              "3605  19                      0.939822                        -0.998697   \n",
              "5669  26                      0.935296                        -0.759234   \n",
              "1267  6                       0.909636                        -0.253555   \n",
              "3174  16                      0.950867                        -0.754274   \n",
              "1677  8                      -0.268423                        -0.999970   \n",
              "\n",
              "1                 angle(Y,gravityMean)  \n",
              "index subject_id                        \n",
              "3229  16                     -0.008996  \n",
              "6988  30                      0.210314  \n",
              "5189  25                      0.163278  \n",
              "6263  28                      0.247250  \n",
              "888   5                       0.132197  \n",
              "...                                ...  \n",
              "3605  19                      0.251008  \n",
              "5669  26                      0.252466  \n",
              "1267  6                       0.221396  \n",
              "3174  16                      0.026578  \n",
              "1677  8                      -0.614755  \n",
              "\n",
              "[5514 rows x 3 columns]"
            ],
            "text/html": [
              "\n",
              "  <div id=\"df-ec496ac3-f1ed-4c44-9f6a-6d8fed74260f\" class=\"colab-df-container\">\n",
              "    <div>\n",
              "<style scoped>\n",
              "    .dataframe tbody tr th:only-of-type {\n",
              "        vertical-align: middle;\n",
              "    }\n",
              "\n",
              "    .dataframe tbody tr th {\n",
              "        vertical-align: top;\n",
              "    }\n",
              "\n",
              "    .dataframe thead th {\n",
              "        text-align: right;\n",
              "    }\n",
              "</style>\n",
              "<table border=\"1\" class=\"dataframe\">\n",
              "  <thead>\n",
              "    <tr style=\"text-align: right;\">\n",
              "      <th></th>\n",
              "      <th>1</th>\n",
              "      <th>tGravityAcc-mean()-X</th>\n",
              "      <th>fBodyAccJerk-bandsEnergy()-1,24</th>\n",
              "      <th>angle(Y,gravityMean)</th>\n",
              "    </tr>\n",
              "    <tr>\n",
              "      <th>index</th>\n",
              "      <th>subject_id</th>\n",
              "      <th></th>\n",
              "      <th></th>\n",
              "      <th></th>\n",
              "    </tr>\n",
              "  </thead>\n",
              "  <tbody>\n",
              "    <tr>\n",
              "      <th>3229</th>\n",
              "      <th>16</th>\n",
              "      <td>0.878431</td>\n",
              "      <td>-0.888136</td>\n",
              "      <td>-0.008996</td>\n",
              "    </tr>\n",
              "    <tr>\n",
              "      <th>6988</th>\n",
              "      <th>30</th>\n",
              "      <td>0.962831</td>\n",
              "      <td>-0.999351</td>\n",
              "      <td>0.210314</td>\n",
              "    </tr>\n",
              "    <tr>\n",
              "      <th>5189</th>\n",
              "      <th>25</th>\n",
              "      <td>0.883538</td>\n",
              "      <td>-0.889242</td>\n",
              "      <td>0.163278</td>\n",
              "    </tr>\n",
              "    <tr>\n",
              "      <th>6263</th>\n",
              "      <th>28</th>\n",
              "      <td>0.954383</td>\n",
              "      <td>-0.999980</td>\n",
              "      <td>0.247250</td>\n",
              "    </tr>\n",
              "    <tr>\n",
              "      <th>888</th>\n",
              "      <th>5</th>\n",
              "      <td>0.978183</td>\n",
              "      <td>-0.999280</td>\n",
              "      <td>0.132197</td>\n",
              "    </tr>\n",
              "    <tr>\n",
              "      <th>...</th>\n",
              "      <th>...</th>\n",
              "      <td>...</td>\n",
              "      <td>...</td>\n",
              "      <td>...</td>\n",
              "    </tr>\n",
              "    <tr>\n",
              "      <th>3605</th>\n",
              "      <th>19</th>\n",
              "      <td>0.939822</td>\n",
              "      <td>-0.998697</td>\n",
              "      <td>0.251008</td>\n",
              "    </tr>\n",
              "    <tr>\n",
              "      <th>5669</th>\n",
              "      <th>26</th>\n",
              "      <td>0.935296</td>\n",
              "      <td>-0.759234</td>\n",
              "      <td>0.252466</td>\n",
              "    </tr>\n",
              "    <tr>\n",
              "      <th>1267</th>\n",
              "      <th>6</th>\n",
              "      <td>0.909636</td>\n",
              "      <td>-0.253555</td>\n",
              "      <td>0.221396</td>\n",
              "    </tr>\n",
              "    <tr>\n",
              "      <th>3174</th>\n",
              "      <th>16</th>\n",
              "      <td>0.950867</td>\n",
              "      <td>-0.754274</td>\n",
              "      <td>0.026578</td>\n",
              "    </tr>\n",
              "    <tr>\n",
              "      <th>1677</th>\n",
              "      <th>8</th>\n",
              "      <td>-0.268423</td>\n",
              "      <td>-0.999970</td>\n",
              "      <td>-0.614755</td>\n",
              "    </tr>\n",
              "  </tbody>\n",
              "</table>\n",
              "<p>5514 rows × 3 columns</p>\n",
              "</div>\n",
              "    <div class=\"colab-df-buttons\">\n",
              "\n",
              "  <div class=\"colab-df-container\">\n",
              "    <button class=\"colab-df-convert\" onclick=\"convertToInteractive('df-ec496ac3-f1ed-4c44-9f6a-6d8fed74260f')\"\n",
              "            title=\"Convert this dataframe to an interactive table.\"\n",
              "            style=\"display:none;\">\n",
              "\n",
              "  <svg xmlns=\"http://www.w3.org/2000/svg\" height=\"24px\" viewBox=\"0 -960 960 960\">\n",
              "    <path d=\"M120-120v-720h720v720H120Zm60-500h600v-160H180v160Zm220 220h160v-160H400v160Zm0 220h160v-160H400v160ZM180-400h160v-160H180v160Zm440 0h160v-160H620v160ZM180-180h160v-160H180v160Zm440 0h160v-160H620v160Z\"/>\n",
              "  </svg>\n",
              "    </button>\n",
              "\n",
              "  <style>\n",
              "    .colab-df-container {\n",
              "      display:flex;\n",
              "      gap: 12px;\n",
              "    }\n",
              "\n",
              "    .colab-df-convert {\n",
              "      background-color: #E8F0FE;\n",
              "      border: none;\n",
              "      border-radius: 50%;\n",
              "      cursor: pointer;\n",
              "      display: none;\n",
              "      fill: #1967D2;\n",
              "      height: 32px;\n",
              "      padding: 0 0 0 0;\n",
              "      width: 32px;\n",
              "    }\n",
              "\n",
              "    .colab-df-convert:hover {\n",
              "      background-color: #E2EBFA;\n",
              "      box-shadow: 0px 1px 2px rgba(60, 64, 67, 0.3), 0px 1px 3px 1px rgba(60, 64, 67, 0.15);\n",
              "      fill: #174EA6;\n",
              "    }\n",
              "\n",
              "    .colab-df-buttons div {\n",
              "      margin-bottom: 4px;\n",
              "    }\n",
              "\n",
              "    [theme=dark] .colab-df-convert {\n",
              "      background-color: #3B4455;\n",
              "      fill: #D2E3FC;\n",
              "    }\n",
              "\n",
              "    [theme=dark] .colab-df-convert:hover {\n",
              "      background-color: #434B5C;\n",
              "      box-shadow: 0px 1px 3px 1px rgba(0, 0, 0, 0.15);\n",
              "      filter: drop-shadow(0px 1px 2px rgba(0, 0, 0, 0.3));\n",
              "      fill: #FFFFFF;\n",
              "    }\n",
              "  </style>\n",
              "\n",
              "    <script>\n",
              "      const buttonEl =\n",
              "        document.querySelector('#df-ec496ac3-f1ed-4c44-9f6a-6d8fed74260f button.colab-df-convert');\n",
              "      buttonEl.style.display =\n",
              "        google.colab.kernel.accessAllowed ? 'block' : 'none';\n",
              "\n",
              "      async function convertToInteractive(key) {\n",
              "        const element = document.querySelector('#df-ec496ac3-f1ed-4c44-9f6a-6d8fed74260f');\n",
              "        const dataTable =\n",
              "          await google.colab.kernel.invokeFunction('convertToInteractive',\n",
              "                                                    [key], {});\n",
              "        if (!dataTable) return;\n",
              "\n",
              "        const docLinkHtml = 'Like what you see? Visit the ' +\n",
              "          '<a target=\"_blank\" href=https://colab.research.google.com/notebooks/data_table.ipynb>data table notebook</a>'\n",
              "          + ' to learn more about interactive tables.';\n",
              "        element.innerHTML = '';\n",
              "        dataTable['output_type'] = 'display_data';\n",
              "        await google.colab.output.renderOutput(dataTable, element);\n",
              "        const docLink = document.createElement('div');\n",
              "        docLink.innerHTML = docLinkHtml;\n",
              "        element.appendChild(docLink);\n",
              "      }\n",
              "    </script>\n",
              "  </div>\n",
              "\n",
              "\n",
              "<div id=\"df-cd9fb308-44b3-4949-90fa-482f262d29c8\">\n",
              "  <button class=\"colab-df-quickchart\" onclick=\"quickchart('df-cd9fb308-44b3-4949-90fa-482f262d29c8')\"\n",
              "            title=\"Suggest charts.\"\n",
              "            style=\"display:none;\">\n",
              "\n",
              "<svg xmlns=\"http://www.w3.org/2000/svg\" height=\"24px\"viewBox=\"0 0 24 24\"\n",
              "     width=\"24px\">\n",
              "    <g>\n",
              "        <path d=\"M19 3H5c-1.1 0-2 .9-2 2v14c0 1.1.9 2 2 2h14c1.1 0 2-.9 2-2V5c0-1.1-.9-2-2-2zM9 17H7v-7h2v7zm4 0h-2V7h2v10zm4 0h-2v-4h2v4z\"/>\n",
              "    </g>\n",
              "</svg>\n",
              "  </button>\n",
              "\n",
              "<style>\n",
              "  .colab-df-quickchart {\n",
              "      --bg-color: #E8F0FE;\n",
              "      --fill-color: #1967D2;\n",
              "      --hover-bg-color: #E2EBFA;\n",
              "      --hover-fill-color: #174EA6;\n",
              "      --disabled-fill-color: #AAA;\n",
              "      --disabled-bg-color: #DDD;\n",
              "  }\n",
              "\n",
              "  [theme=dark] .colab-df-quickchart {\n",
              "      --bg-color: #3B4455;\n",
              "      --fill-color: #D2E3FC;\n",
              "      --hover-bg-color: #434B5C;\n",
              "      --hover-fill-color: #FFFFFF;\n",
              "      --disabled-bg-color: #3B4455;\n",
              "      --disabled-fill-color: #666;\n",
              "  }\n",
              "\n",
              "  .colab-df-quickchart {\n",
              "    background-color: var(--bg-color);\n",
              "    border: none;\n",
              "    border-radius: 50%;\n",
              "    cursor: pointer;\n",
              "    display: none;\n",
              "    fill: var(--fill-color);\n",
              "    height: 32px;\n",
              "    padding: 0;\n",
              "    width: 32px;\n",
              "  }\n",
              "\n",
              "  .colab-df-quickchart:hover {\n",
              "    background-color: var(--hover-bg-color);\n",
              "    box-shadow: 0 1px 2px rgba(60, 64, 67, 0.3), 0 1px 3px 1px rgba(60, 64, 67, 0.15);\n",
              "    fill: var(--button-hover-fill-color);\n",
              "  }\n",
              "\n",
              "  .colab-df-quickchart-complete:disabled,\n",
              "  .colab-df-quickchart-complete:disabled:hover {\n",
              "    background-color: var(--disabled-bg-color);\n",
              "    fill: var(--disabled-fill-color);\n",
              "    box-shadow: none;\n",
              "  }\n",
              "\n",
              "  .colab-df-spinner {\n",
              "    border: 2px solid var(--fill-color);\n",
              "    border-color: transparent;\n",
              "    border-bottom-color: var(--fill-color);\n",
              "    animation:\n",
              "      spin 1s steps(1) infinite;\n",
              "  }\n",
              "\n",
              "  @keyframes spin {\n",
              "    0% {\n",
              "      border-color: transparent;\n",
              "      border-bottom-color: var(--fill-color);\n",
              "      border-left-color: var(--fill-color);\n",
              "    }\n",
              "    20% {\n",
              "      border-color: transparent;\n",
              "      border-left-color: var(--fill-color);\n",
              "      border-top-color: var(--fill-color);\n",
              "    }\n",
              "    30% {\n",
              "      border-color: transparent;\n",
              "      border-left-color: var(--fill-color);\n",
              "      border-top-color: var(--fill-color);\n",
              "      border-right-color: var(--fill-color);\n",
              "    }\n",
              "    40% {\n",
              "      border-color: transparent;\n",
              "      border-right-color: var(--fill-color);\n",
              "      border-top-color: var(--fill-color);\n",
              "    }\n",
              "    60% {\n",
              "      border-color: transparent;\n",
              "      border-right-color: var(--fill-color);\n",
              "    }\n",
              "    80% {\n",
              "      border-color: transparent;\n",
              "      border-right-color: var(--fill-color);\n",
              "      border-bottom-color: var(--fill-color);\n",
              "    }\n",
              "    90% {\n",
              "      border-color: transparent;\n",
              "      border-bottom-color: var(--fill-color);\n",
              "    }\n",
              "  }\n",
              "</style>\n",
              "\n",
              "  <script>\n",
              "    async function quickchart(key) {\n",
              "      const quickchartButtonEl =\n",
              "        document.querySelector('#' + key + ' button');\n",
              "      quickchartButtonEl.disabled = true;  // To prevent multiple clicks.\n",
              "      quickchartButtonEl.classList.add('colab-df-spinner');\n",
              "      try {\n",
              "        const charts = await google.colab.kernel.invokeFunction(\n",
              "            'suggestCharts', [key], {});\n",
              "      } catch (error) {\n",
              "        console.error('Error during call to suggestCharts:', error);\n",
              "      }\n",
              "      quickchartButtonEl.classList.remove('colab-df-spinner');\n",
              "      quickchartButtonEl.classList.add('colab-df-quickchart-complete');\n",
              "    }\n",
              "    (() => {\n",
              "      let quickchartButtonEl =\n",
              "        document.querySelector('#df-cd9fb308-44b3-4949-90fa-482f262d29c8 button');\n",
              "      quickchartButtonEl.style.display =\n",
              "        google.colab.kernel.accessAllowed ? 'block' : 'none';\n",
              "    })();\n",
              "  </script>\n",
              "</div>\n",
              "    </div>\n",
              "  </div>\n"
            ]
          },
          "metadata": {},
          "execution_count": 117
        }
      ]
    },
    {
      "cell_type": "markdown",
      "metadata": {
        "id": "QJD-OjKySg_7"
      },
      "source": [
        "### 4. Construa uma árvore com as 3 melhores variáveis\n",
        "\n",
        "Utilizando as três variáveis encontradas acima, construa uma árvore de decisão. Encontre o melhor ```ccp_alpha``` utilizando a base de validação, conforme a estrutura que vimos em aula."
      ]
    },
    {
      "cell_type": "code",
      "execution_count": 118,
      "metadata": {
        "colab": {
          "base_uri": "https://localhost:8080/"
        },
        "id": "gN_gg3owSg_7",
        "outputId": "af95ff0b-3052-4e52-9d7f-17d9270a2395"
      },
      "outputs": [
        {
          "output_type": "stream",
          "name": "stdout",
          "text": [
            "CPU times: user 31.3 ms, sys: 0 ns, total: 31.3 ms\n",
            "Wall time: 31.7 ms\n"
          ]
        }
      ],
      "source": [
        "%%time\n",
        "clf_ccp_alpha=DecisionTreeClassifier(random_state=999)\n",
        "path = clf_ccp_alpha.cost_complexity_pruning_path(df_x_train, df_y_train)\n",
        "ccp_alphas = path.ccp_alphas"
      ]
    },
    {
      "cell_type": "code",
      "source": [
        "clfs = []\n",
        "for ccp_alpha in ccp_alphas:\n",
        "    clf = DecisionTreeClassifier(random_state=2360873, ccp_alpha=ccp_alpha).fit(df_x_train, df_y_train)\n",
        "    clfs.append(clf)\n",
        "\n",
        "train_scores = [clf.score(df_x_train, df_y_train) for clf in clfs]\n",
        "\n",
        "df_x_valid = df_x_valid.iloc[:,df_best_features.index]\n",
        "valid_scores  = [clf.score(df_x_valid, df_y_valid) for clf in clfs]\n",
        "\n",
        "ind_melhor_arvore_valid = len(valid_scores) - valid_scores[::-1].index(max(valid_scores)) - 1\n",
        "melhor_arvore = clfs[ind_melhor_arvore_valid]\n",
        "print(f'Acurácia da melhor árvore na base de validação: {valid_scores[ind_melhor_arvore_valid]*100:.2f}')"
      ],
      "metadata": {
        "colab": {
          "base_uri": "https://localhost:8080/"
        },
        "id": "nlmeNz1Nk7g3",
        "outputId": "d6274da2-a8ab-4b0a-bd7c-7a14a82e5b14"
      },
      "execution_count": 119,
      "outputs": [
        {
          "output_type": "stream",
          "name": "stdout",
          "text": [
            "Acurácia da melhor árvore na base de validação: 86.13\n"
          ]
        }
      ]
    },
    {
      "cell_type": "markdown",
      "metadata": {
        "id": "MPZWB_tYSg_7"
      },
      "source": [
        "### 5. Avaliação do modelo\n",
        "\n",
        "Avalie a árvore encontrada no item anterior na base de testes."
      ]
    },
    {
      "cell_type": "code",
      "execution_count": 120,
      "metadata": {
        "colab": {
          "base_uri": "https://localhost:8080/"
        },
        "id": "BT-TVHICSg_8",
        "outputId": "691a56cd-970f-4247-8015-7a6cfe0cb272"
      },
      "outputs": [
        {
          "output_type": "stream",
          "name": "stdout",
          "text": [
            "Acurácia da melhor árvore na base de testes: 71.90\n"
          ]
        }
      ],
      "source": [
        "df_x_test = df_x_test.iloc[:,df_best_features.index]\n",
        "test_scores  = [clf.score(df_x_test, df_y_test) for clf in clfs]\n",
        "\n",
        "ind_melhor_arvore_test = len(test_scores) - test_scores[::-1].index(max(test_scores)) - 1\n",
        "melhor_arvore = clfs[ind_melhor_arvore_test]\n",
        "print(f'Acurácia da melhor árvore na base de testes: {test_scores[ind_melhor_arvore_test]*100:.2f}')"
      ]
    }
  ],
  "metadata": {
    "kernelspec": {
      "display_name": "Python 3",
      "language": "python",
      "name": "python3"
    },
    "language_info": {
      "codemirror_mode": {
        "name": "ipython",
        "version": 3
      },
      "file_extension": ".py",
      "mimetype": "text/x-python",
      "name": "python",
      "nbconvert_exporter": "python",
      "pygments_lexer": "ipython3",
      "version": "3.8.5"
    },
    "colab": {
      "provenance": []
    }
  },
  "nbformat": 4,
  "nbformat_minor": 0
}