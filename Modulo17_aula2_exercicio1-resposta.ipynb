{
  "cells": [
    {
      "cell_type": "markdown",
      "metadata": {
        "tags": [],
        "id": "-0n0SCSKyRNu"
      },
      "source": [
        "# Árvores II - Tarefa I"
      ]
    },
    {
      "cell_type": "markdown",
      "metadata": {
        "id": "HsJuhFtmyRNw"
      },
      "source": [
        "![image.png](attachment:f65bd82d-aa56-4cf2-8030-bb758771f332.png)  \n",
        "[fonte](https://momentum.org/programs-services/manage-your-money/savings-app/pxfuel-creative-commons-zero-cc0-iphone-smartphone-cell-phone-mobile-technology-texting/)\n",
        "\n",
        "Neste exercício vamos trabalhar com a base de dados de identificação de atividade humana com smartphones. Smartphones possuem acelerômetro e giroscópio, que registram dados de aceleração e giro nos eixos X, Y e Z, com frequencia de 50 Hz (ou seja, 50 registros por segundo). Os dados foram agrupados a medidas de 0.3 Hz, calculando-se variáveis derivadas como aceleração mínima, máxima, média etc por eixo no período agrupado de tempo, resultando em 561 variáveis que podem ser lidas nas bases disponíveis.\n",
        "\n",
        "A base é oriunda de um experimento, em que os indivíduos realizavam uma de seis atividades corriqueiras:\n",
        "- andando\n",
        "- subindo escada\n",
        "- descendo escada\n",
        "- parado\n",
        "- sentado\n",
        "- deitado\n",
        "\n",
        "O objetivo é classificar a atividade humana com base nos dados do acelerômetro e giroscópio do celular."
      ]
    },
    {
      "cell_type": "markdown",
      "metadata": {
        "id": "7dwBFPulyRNx"
      },
      "source": [
        "### 1. Carregar a base\n",
        "\n",
        "Sua primeira atividade é carregar a base.\n",
        "\n",
        "Ela está disponível neste link:\n",
        "https://archive.ics.uci.edu/ml/datasets/human+activity+recognition+using+smartphones\n",
        "\n",
        "dados https://archive.ics.uci.edu/ml/machine-learning-databases/00240/  \n",
        "dataset.names https://archive.ics.uci.edu/ml/machine-learning-databases/00240/UCI%20HAR%20Dataset.names  \n",
        "UCI HAR Dataset.zip https://archive.ics.uci.edu/ml/machine-learning-databases/00240/UCI%20HAR%20Dataset.zip\n",
        "\n",
        "Você vai encontrar os seguintes arquivos:\n",
        "\n",
        "- **features.txt:** contém a lista com os nomes das variáveis\n",
        "- **features_info.txt:** contém a descrição das variáveis\n",
        "- **README.txt:** contém uma descrição do estudo e das bases\n",
        "- **activity_labels:** contém o código da atividade (inteiro entre 1 e 6) e a descrição\n",
        "- **subject_train.txt:** uma lista indicando que registro pertence a que indivíduo na base de treino\n",
        "- **X_train.txt:** as *features* (ou variáveis explicativas) da base de testes. Cada linha representa um registro das informações de um indivíduo em um intervalo de tempo de aproximadamente 1/0.3 segundo. As medidas estão em ordem temporal dentro do estudo, e o indivíduo que originou a medida está identificado na base subject_train.txt.\n",
        "- **y_train.txt:** Possui o mesmo número de linhas que X_test. Contém um número de 1 a 6 indicando a atividade que estava sendo realizada por aquele registro na base de treino.\n",
        "- **subject_test.txt:** uma lista indicando que registro pertence a que indivíduo na base de teste\n",
        "- **X_test.txt:** as *features* (ou variáveis explicativas) da base de testes. Cada linha representa um registro das informações de um indivíduo em um intervalo de tempo de aproximadamente 1/0.3 segundo. As medidas estão em ordem temporal dentro do estudo, e o indivíduo que originou a medida está identificado na base subject_test.txt.\n",
        "- **y_test.txt:** Possui o mesmo número de linhas que X_train. Contém um número de 1 a 6 indicando a atividade que estava sendo realizada por aquele registro na base de teste.\n",
        "\n",
        "Carregue as bases:\n",
        "\n",
        "1. Faça o download dos arquivos.\n",
        "2. Carregue a base ```features.txt``` em uma *Series* (por exemplo usando o comando ```pd.read_csv()```.\n",
        "3. Carregue a base subject_train.txt em uma *Series*\n",
        "4. Carregue a base X_train.txt\n",
        "    1. Faça com que as colunas deste *dataframe* tenham os nomes indicados em ```features.txt```\n",
        "    2. Sem alterar a ordem dos *dataframes*, coloque o indicador do indivíduo lido em ```subject_train.txt``` como uma variável a mais neste *dataframe***\n",
        "    3. Faça com que este *dataframe* tenha um índice duplo, composto pela ordem dos dados e pelo identificador do indivíduo\n",
        "5. Com a mesma lógica, carregue a base X_test\n",
        "    1. Certifique-se de que tenha os nomes lidos em ```features.txt```\n",
        "    2. Coloque o identificador do sujeito lido em ```subject_test.txt```\n",
        "    3. Defina um índice duplo composto pela ordem do registro e o identificador do registro\n",
        "6. Salve as bases em arquivos CSV para facilitar a leitura deles na terefa 2 deste módulo\n",
        "7. Considere que esta base é maior que a da aula, tanto em linhas quanto em colunas. Selecione apenas as três primeiras colunas da base ('tBodyAcc-mean()-X', 'tBodyAcc-mean()-Y' e 'tBodyAcc-mean()-Z'), para efeitos desse exercício.\n",
        "\n",
        "**OBS:** As bases já estão divididas em treino e teste, de modo que não vamos precisar da função ```train_test_split```."
      ]
    },
    {
      "cell_type": "code",
      "execution_count": 64,
      "metadata": {
        "id": "3XC1vHYjyRNy"
      },
      "outputs": [],
      "source": [
        "import pandas as pd\n",
        "from sklearn.tree import DecisionTreeClassifier\n",
        "import numpy as np\n",
        "import matplotlib.pyplot as plt\n",
        "\n"
      ]
    },
    {
      "cell_type": "code",
      "execution_count": 75,
      "metadata": {
        "tags": [],
        "id": "U_NGDJTDyRN0"
      },
      "outputs": [],
      "source": [
        "def load_data(fn_subject, fn_x, fn_export):\n",
        "\n",
        "  df_features = pd.read_csv('features.txt', delimiter='\\s+', header=None)\n",
        "  df_subject = pd.read_csv(fn_subject, delimiter='\\s+', header=None)\n",
        "  df_x = pd.read_csv(fn_x, delimiter='\\s+', header=None)\n",
        "\n",
        "  df_x.columns = df_features[1]\n",
        "  df_x = df_x[['tBodyAcc-mean()-X', 'tBodyAcc-mean()-Y', 'tBodyAcc-mean()-Z']]\n",
        "  df_x['subject_id'] = df_subject[0]\n",
        "\n",
        "  df_x = df_x.reset_index()\n",
        "  df_x = df_x.set_index(['index', 'subject_id'])\n",
        "  df_x.to_csv(fn_export)\n",
        "\n",
        "  return df_x\n",
        "\n",
        "df_x_train = load_data('subject_train.txt', 'X_train.txt', 'df_x_train.csv')\n",
        "df_y_train = pd.read_csv('y_train.txt', delimiter='\\s+', header=None)\n",
        "\n",
        "df_x_test = load_data('subject_test.txt', 'X_test.txt', 'df_x_test.csv')\n",
        "df_y_test = pd.read_csv('y_test.txt', delimiter='\\s+', header=None)\n"
      ]
    },
    {
      "cell_type": "markdown",
      "metadata": {
        "id": "BZcmOkWryRN1"
      },
      "source": [
        "### 2. Ajustar uma árvore de decisão\n",
        "\n",
        "- 2.1 ajuste uma árvore de decisão com número mínimo de observações por folha = 20. Certifique-se de que você esteja utilizando apenas as 3 variáveis indicadas no exercício anterior.\n",
        "- 2.2 Calcule os ccp_alphas. Como feito em aula, certifique-se de que todos os valores são positivos, e selecione apenas valores únicos.\n",
        "- 2.3 Considere que vamos fazer uma árvore para cada valor de ```ccp_alpha```. Para ter um pouco mais de velocidade, crie uma coleção de dados com os ```ccp_alphas```, considerando apenas 1 a cada 5 valores. Dica: utilize o slicing do tipo ```array[::5]``` para isto. Caso se sinta seguro, fique à vontade para utilizar mais valores de ```ccp_alpha```."
      ]
    },
    {
      "cell_type": "code",
      "source": [
        "df_x_train.head()"
      ],
      "metadata": {
        "colab": {
          "base_uri": "https://localhost:8080/",
          "height": 238
        },
        "id": "t78KW52pGmoQ",
        "outputId": "30b7fec1-706f-403b-c0e7-a6cd0be32d94"
      },
      "execution_count": 76,
      "outputs": [
        {
          "output_type": "execute_result",
          "data": {
            "text/plain": [
              "1                 tBodyAcc-mean()-X  tBodyAcc-mean()-Y  tBodyAcc-mean()-Z\n",
              "index subject_id                                                         \n",
              "0     1                    0.288585          -0.020294          -0.132905\n",
              "1     1                    0.278419          -0.016411          -0.123520\n",
              "2     1                    0.279653          -0.019467          -0.113462\n",
              "3     1                    0.279174          -0.026201          -0.123283\n",
              "4     1                    0.276629          -0.016570          -0.115362"
            ],
            "text/html": [
              "\n",
              "  <div id=\"df-1f7a49ba-b746-43f7-a479-9697db46790e\" class=\"colab-df-container\">\n",
              "    <div>\n",
              "<style scoped>\n",
              "    .dataframe tbody tr th:only-of-type {\n",
              "        vertical-align: middle;\n",
              "    }\n",
              "\n",
              "    .dataframe tbody tr th {\n",
              "        vertical-align: top;\n",
              "    }\n",
              "\n",
              "    .dataframe thead th {\n",
              "        text-align: right;\n",
              "    }\n",
              "</style>\n",
              "<table border=\"1\" class=\"dataframe\">\n",
              "  <thead>\n",
              "    <tr style=\"text-align: right;\">\n",
              "      <th></th>\n",
              "      <th>1</th>\n",
              "      <th>tBodyAcc-mean()-X</th>\n",
              "      <th>tBodyAcc-mean()-Y</th>\n",
              "      <th>tBodyAcc-mean()-Z</th>\n",
              "    </tr>\n",
              "    <tr>\n",
              "      <th>index</th>\n",
              "      <th>subject_id</th>\n",
              "      <th></th>\n",
              "      <th></th>\n",
              "      <th></th>\n",
              "    </tr>\n",
              "  </thead>\n",
              "  <tbody>\n",
              "    <tr>\n",
              "      <th>0</th>\n",
              "      <th>1</th>\n",
              "      <td>0.288585</td>\n",
              "      <td>-0.020294</td>\n",
              "      <td>-0.132905</td>\n",
              "    </tr>\n",
              "    <tr>\n",
              "      <th>1</th>\n",
              "      <th>1</th>\n",
              "      <td>0.278419</td>\n",
              "      <td>-0.016411</td>\n",
              "      <td>-0.123520</td>\n",
              "    </tr>\n",
              "    <tr>\n",
              "      <th>2</th>\n",
              "      <th>1</th>\n",
              "      <td>0.279653</td>\n",
              "      <td>-0.019467</td>\n",
              "      <td>-0.113462</td>\n",
              "    </tr>\n",
              "    <tr>\n",
              "      <th>3</th>\n",
              "      <th>1</th>\n",
              "      <td>0.279174</td>\n",
              "      <td>-0.026201</td>\n",
              "      <td>-0.123283</td>\n",
              "    </tr>\n",
              "    <tr>\n",
              "      <th>4</th>\n",
              "      <th>1</th>\n",
              "      <td>0.276629</td>\n",
              "      <td>-0.016570</td>\n",
              "      <td>-0.115362</td>\n",
              "    </tr>\n",
              "  </tbody>\n",
              "</table>\n",
              "</div>\n",
              "    <div class=\"colab-df-buttons\">\n",
              "\n",
              "  <div class=\"colab-df-container\">\n",
              "    <button class=\"colab-df-convert\" onclick=\"convertToInteractive('df-1f7a49ba-b746-43f7-a479-9697db46790e')\"\n",
              "            title=\"Convert this dataframe to an interactive table.\"\n",
              "            style=\"display:none;\">\n",
              "\n",
              "  <svg xmlns=\"http://www.w3.org/2000/svg\" height=\"24px\" viewBox=\"0 -960 960 960\">\n",
              "    <path d=\"M120-120v-720h720v720H120Zm60-500h600v-160H180v160Zm220 220h160v-160H400v160Zm0 220h160v-160H400v160ZM180-400h160v-160H180v160Zm440 0h160v-160H620v160ZM180-180h160v-160H180v160Zm440 0h160v-160H620v160Z\"/>\n",
              "  </svg>\n",
              "    </button>\n",
              "\n",
              "  <style>\n",
              "    .colab-df-container {\n",
              "      display:flex;\n",
              "      gap: 12px;\n",
              "    }\n",
              "\n",
              "    .colab-df-convert {\n",
              "      background-color: #E8F0FE;\n",
              "      border: none;\n",
              "      border-radius: 50%;\n",
              "      cursor: pointer;\n",
              "      display: none;\n",
              "      fill: #1967D2;\n",
              "      height: 32px;\n",
              "      padding: 0 0 0 0;\n",
              "      width: 32px;\n",
              "    }\n",
              "\n",
              "    .colab-df-convert:hover {\n",
              "      background-color: #E2EBFA;\n",
              "      box-shadow: 0px 1px 2px rgba(60, 64, 67, 0.3), 0px 1px 3px 1px rgba(60, 64, 67, 0.15);\n",
              "      fill: #174EA6;\n",
              "    }\n",
              "\n",
              "    .colab-df-buttons div {\n",
              "      margin-bottom: 4px;\n",
              "    }\n",
              "\n",
              "    [theme=dark] .colab-df-convert {\n",
              "      background-color: #3B4455;\n",
              "      fill: #D2E3FC;\n",
              "    }\n",
              "\n",
              "    [theme=dark] .colab-df-convert:hover {\n",
              "      background-color: #434B5C;\n",
              "      box-shadow: 0px 1px 3px 1px rgba(0, 0, 0, 0.15);\n",
              "      filter: drop-shadow(0px 1px 2px rgba(0, 0, 0, 0.3));\n",
              "      fill: #FFFFFF;\n",
              "    }\n",
              "  </style>\n",
              "\n",
              "    <script>\n",
              "      const buttonEl =\n",
              "        document.querySelector('#df-1f7a49ba-b746-43f7-a479-9697db46790e button.colab-df-convert');\n",
              "      buttonEl.style.display =\n",
              "        google.colab.kernel.accessAllowed ? 'block' : 'none';\n",
              "\n",
              "      async function convertToInteractive(key) {\n",
              "        const element = document.querySelector('#df-1f7a49ba-b746-43f7-a479-9697db46790e');\n",
              "        const dataTable =\n",
              "          await google.colab.kernel.invokeFunction('convertToInteractive',\n",
              "                                                    [key], {});\n",
              "        if (!dataTable) return;\n",
              "\n",
              "        const docLinkHtml = 'Like what you see? Visit the ' +\n",
              "          '<a target=\"_blank\" href=https://colab.research.google.com/notebooks/data_table.ipynb>data table notebook</a>'\n",
              "          + ' to learn more about interactive tables.';\n",
              "        element.innerHTML = '';\n",
              "        dataTable['output_type'] = 'display_data';\n",
              "        await google.colab.output.renderOutput(dataTable, element);\n",
              "        const docLink = document.createElement('div');\n",
              "        docLink.innerHTML = docLinkHtml;\n",
              "        element.appendChild(docLink);\n",
              "      }\n",
              "    </script>\n",
              "  </div>\n",
              "\n",
              "\n",
              "<div id=\"df-4ac33b23-9dd1-4bf9-9ced-a9277f11dc1b\">\n",
              "  <button class=\"colab-df-quickchart\" onclick=\"quickchart('df-4ac33b23-9dd1-4bf9-9ced-a9277f11dc1b')\"\n",
              "            title=\"Suggest charts.\"\n",
              "            style=\"display:none;\">\n",
              "\n",
              "<svg xmlns=\"http://www.w3.org/2000/svg\" height=\"24px\"viewBox=\"0 0 24 24\"\n",
              "     width=\"24px\">\n",
              "    <g>\n",
              "        <path d=\"M19 3H5c-1.1 0-2 .9-2 2v14c0 1.1.9 2 2 2h14c1.1 0 2-.9 2-2V5c0-1.1-.9-2-2-2zM9 17H7v-7h2v7zm4 0h-2V7h2v10zm4 0h-2v-4h2v4z\"/>\n",
              "    </g>\n",
              "</svg>\n",
              "  </button>\n",
              "\n",
              "<style>\n",
              "  .colab-df-quickchart {\n",
              "      --bg-color: #E8F0FE;\n",
              "      --fill-color: #1967D2;\n",
              "      --hover-bg-color: #E2EBFA;\n",
              "      --hover-fill-color: #174EA6;\n",
              "      --disabled-fill-color: #AAA;\n",
              "      --disabled-bg-color: #DDD;\n",
              "  }\n",
              "\n",
              "  [theme=dark] .colab-df-quickchart {\n",
              "      --bg-color: #3B4455;\n",
              "      --fill-color: #D2E3FC;\n",
              "      --hover-bg-color: #434B5C;\n",
              "      --hover-fill-color: #FFFFFF;\n",
              "      --disabled-bg-color: #3B4455;\n",
              "      --disabled-fill-color: #666;\n",
              "  }\n",
              "\n",
              "  .colab-df-quickchart {\n",
              "    background-color: var(--bg-color);\n",
              "    border: none;\n",
              "    border-radius: 50%;\n",
              "    cursor: pointer;\n",
              "    display: none;\n",
              "    fill: var(--fill-color);\n",
              "    height: 32px;\n",
              "    padding: 0;\n",
              "    width: 32px;\n",
              "  }\n",
              "\n",
              "  .colab-df-quickchart:hover {\n",
              "    background-color: var(--hover-bg-color);\n",
              "    box-shadow: 0 1px 2px rgba(60, 64, 67, 0.3), 0 1px 3px 1px rgba(60, 64, 67, 0.15);\n",
              "    fill: var(--button-hover-fill-color);\n",
              "  }\n",
              "\n",
              "  .colab-df-quickchart-complete:disabled,\n",
              "  .colab-df-quickchart-complete:disabled:hover {\n",
              "    background-color: var(--disabled-bg-color);\n",
              "    fill: var(--disabled-fill-color);\n",
              "    box-shadow: none;\n",
              "  }\n",
              "\n",
              "  .colab-df-spinner {\n",
              "    border: 2px solid var(--fill-color);\n",
              "    border-color: transparent;\n",
              "    border-bottom-color: var(--fill-color);\n",
              "    animation:\n",
              "      spin 1s steps(1) infinite;\n",
              "  }\n",
              "\n",
              "  @keyframes spin {\n",
              "    0% {\n",
              "      border-color: transparent;\n",
              "      border-bottom-color: var(--fill-color);\n",
              "      border-left-color: var(--fill-color);\n",
              "    }\n",
              "    20% {\n",
              "      border-color: transparent;\n",
              "      border-left-color: var(--fill-color);\n",
              "      border-top-color: var(--fill-color);\n",
              "    }\n",
              "    30% {\n",
              "      border-color: transparent;\n",
              "      border-left-color: var(--fill-color);\n",
              "      border-top-color: var(--fill-color);\n",
              "      border-right-color: var(--fill-color);\n",
              "    }\n",
              "    40% {\n",
              "      border-color: transparent;\n",
              "      border-right-color: var(--fill-color);\n",
              "      border-top-color: var(--fill-color);\n",
              "    }\n",
              "    60% {\n",
              "      border-color: transparent;\n",
              "      border-right-color: var(--fill-color);\n",
              "    }\n",
              "    80% {\n",
              "      border-color: transparent;\n",
              "      border-right-color: var(--fill-color);\n",
              "      border-bottom-color: var(--fill-color);\n",
              "    }\n",
              "    90% {\n",
              "      border-color: transparent;\n",
              "      border-bottom-color: var(--fill-color);\n",
              "    }\n",
              "  }\n",
              "</style>\n",
              "\n",
              "  <script>\n",
              "    async function quickchart(key) {\n",
              "      const quickchartButtonEl =\n",
              "        document.querySelector('#' + key + ' button');\n",
              "      quickchartButtonEl.disabled = true;  // To prevent multiple clicks.\n",
              "      quickchartButtonEl.classList.add('colab-df-spinner');\n",
              "      try {\n",
              "        const charts = await google.colab.kernel.invokeFunction(\n",
              "            'suggestCharts', [key], {});\n",
              "      } catch (error) {\n",
              "        console.error('Error during call to suggestCharts:', error);\n",
              "      }\n",
              "      quickchartButtonEl.classList.remove('colab-df-spinner');\n",
              "      quickchartButtonEl.classList.add('colab-df-quickchart-complete');\n",
              "    }\n",
              "    (() => {\n",
              "      let quickchartButtonEl =\n",
              "        document.querySelector('#df-4ac33b23-9dd1-4bf9-9ced-a9277f11dc1b button');\n",
              "      quickchartButtonEl.style.display =\n",
              "        google.colab.kernel.accessAllowed ? 'block' : 'none';\n",
              "    })();\n",
              "  </script>\n",
              "</div>\n",
              "    </div>\n",
              "  </div>\n"
            ]
          },
          "metadata": {},
          "execution_count": 76
        }
      ]
    },
    {
      "cell_type": "code",
      "source": [
        "df_x_train.isna().sum()"
      ],
      "metadata": {
        "colab": {
          "base_uri": "https://localhost:8080/"
        },
        "id": "KShGFYd3G__w",
        "outputId": "2316341c-d061-4433-8c58-cd26caefeaf5"
      },
      "execution_count": 77,
      "outputs": [
        {
          "output_type": "execute_result",
          "data": {
            "text/plain": [
              "1\n",
              "tBodyAcc-mean()-X    0\n",
              "tBodyAcc-mean()-Y    0\n",
              "tBodyAcc-mean()-Z    0\n",
              "dtype: int64"
            ]
          },
          "metadata": {},
          "execution_count": 77
        }
      ]
    },
    {
      "cell_type": "code",
      "execution_count": 80,
      "metadata": {
        "id": "a-45Xy6ZyRN2"
      },
      "outputs": [],
      "source": [
        "#as variáveis que compões o índice (no caso, número da linha e subject_id) não são levadas em contas pelos métodos da árvore, certo?\n",
        "\n",
        "clf_cc_alpha = DecisionTreeClassifier(random_state=1000, min_samples_leaf=20)\n",
        "path = clf_cc_alpha.cost_complexity_pruning_path(df_x_train, df_y_train)\n",
        "ccp_alphas = path.ccp_alphas"
      ]
    },
    {
      "cell_type": "markdown",
      "metadata": {
        "id": "ZTsaE8ptyRN2"
      },
      "source": [
        "### 3. Desempenho da árvore por ccp_alpha\n",
        "\n",
        "- 3.1: Rode uma árvore para cada ```ccp_alpha```, salvando cada árvore em uma lista\n",
        "- 3.2: Calcule a acurácia de cada árvore na base de treinamento e de teste\n",
        "- 3.3: Monte um gráfico da acurácia em função do ```ccp_alpha``` na base de validação e na base de teste\n",
        "- 3.4: Selecione a melhor árvore como sendo aquela que possui melhor acurácia na base de teste\n",
        "- 3.5: Qual a melhor acurácia que se pode obter com estas três variáveis?\n",
        "\n",
        "**Dica:** utilize a estrutura do notebook apresentado em aula.  \n",
        "**Dica 2:** meça o tempo com a função mágica ```%%time``` na primeira linha da célula.  \n",
        "**Sugestão:** caso fique confortável com o tempo de execução, faça a busca pelo melhor ```ccp_alpha``` com mais iterações.  \n",
        "**Sugestão 2:** caso fique confortável com o tempo de execução, tente inserir uma ou mais variáveis adicionais e veja se consegue aumentar a acurácia."
      ]
    },
    {
      "cell_type": "code",
      "execution_count": 81,
      "metadata": {
        "id": "X8tMhFP1yRN2"
      },
      "outputs": [],
      "source": [
        "clfs = []\n",
        "for ccp_alpha in ccp_alphas:\n",
        "    clf = DecisionTreeClassifier(random_state=2360873, ccp_alpha=ccp_alpha).fit(df_x_train, df_y_train)\n",
        "    clfs.append(clf)"
      ]
    },
    {
      "cell_type": "code",
      "source": [
        "train_scores = [clf.score(df_x_train, df_y_train) for clf in clfs]\n",
        "test_scores  = [clf.score(df_x_test, df_y_test) for clf in clfs]"
      ],
      "metadata": {
        "id": "0P5nf0SNJr-n"
      },
      "execution_count": 82,
      "outputs": []
    },
    {
      "cell_type": "code",
      "source": [
        "fig, ax = plt.subplots()\n",
        "ax.set_xlabel(\"ccp_alpha\")\n",
        "ax.set_ylabel(\"Acurácia/Score\")\n",
        "ax.set_title(\"Acurácia x ccp_alpha do conjunto de dados de treino e teste\")\n",
        "ax.plot(ccp_alphas, train_scores, marker='o', label=\"treino\", drawstyle=\"steps-post\")\n",
        "ax.plot(ccp_alphas, test_scores, marker='o', label=\"teste\", drawstyle=\"steps-post\")\n",
        "ax.legend()\n",
        "plt.show()"
      ],
      "metadata": {
        "colab": {
          "base_uri": "https://localhost:8080/",
          "height": 472
        },
        "id": "ZNMxsO_JJsFO",
        "outputId": "d0cf6fc9-f726-45b8-9f01-3eae7d90472d"
      },
      "execution_count": 83,
      "outputs": [
        {
          "output_type": "display_data",
          "data": {
            "text/plain": [
              "<Figure size 640x480 with 1 Axes>"
            ],
            "image/png": "[encoded data removed]"
          },
          "metadata": {}
        }
      ]
    },
    {
      "cell_type": "code",
      "source": [
        "#pegar arvore com maior score com maior ccp_alpha (caso haja empate no score)\n",
        "\n",
        "#porém, este código abaixo inverte a lista de scores e acha o índice do primeiro score mais alto\n",
        "#nada garante que o primeiro score é o que tem o ccp_alpha maior, porque a lista de ccp_alphas não é ordenada\n",
        "#rever\n",
        "\n",
        "ind_melhor_arvore = len(test_scores) - test_scores[::-1].index(max(test_scores)) - 1\n",
        "melhor_arvore = clfs[ind_melhor_arvore]"
      ],
      "metadata": {
        "id": "5iJMFaOkJsLN"
      },
      "execution_count": 101,
      "outputs": []
    },
    {
      "cell_type": "code",
      "source": [
        "#maior acurácia\n",
        "max(test_scores)"
      ],
      "metadata": {
        "colab": {
          "base_uri": "https://localhost:8080/"
        },
        "id": "D00qD_xpPdSJ",
        "outputId": "8d9e611f-68ab-41b0-ee16-fa8131ed132d"
      },
      "execution_count": 102,
      "outputs": [
        {
          "output_type": "execute_result",
          "data": {
            "text/plain": [
              "0.4472344757380387"
            ]
          },
          "metadata": {},
          "execution_count": 102
        }
      ]
    },
    {
      "cell_type": "code",
      "source": [
        "teste_algoritmo = [1, 0, 2, 2, 0]\n",
        "max(teste_algoritmo)"
      ],
      "metadata": {
        "colab": {
          "base_uri": "https://localhost:8080/"
        },
        "id": "gwPgmFdNMApq",
        "outputId": "1ada6106-3c59-42b2-ba2f-6593a6e4a69a"
      },
      "execution_count": 97,
      "outputs": [
        {
          "output_type": "execute_result",
          "data": {
            "text/plain": [
              "2"
            ]
          },
          "metadata": {},
          "execution_count": 97
        }
      ]
    },
    {
      "cell_type": "code",
      "source": [
        "teste_algoritmo[::-1]"
      ],
      "metadata": {
        "colab": {
          "base_uri": "https://localhost:8080/"
        },
        "id": "STSnjQUdNT5O",
        "outputId": "2bb59e5a-98d7-4d52-f1ad-1e68a9d71518"
      },
      "execution_count": 98,
      "outputs": [
        {
          "output_type": "execute_result",
          "data": {
            "text/plain": [
              "[0, 2, 2, 0, 1]"
            ]
          },
          "metadata": {},
          "execution_count": 98
        }
      ]
    },
    {
      "cell_type": "code",
      "source": [
        "teste_algoritmo.index(2)"
      ],
      "metadata": {
        "colab": {
          "base_uri": "https://localhost:8080/"
        },
        "id": "D7oZ5ADlOiNW",
        "outputId": "adfc1ec5-b8df-415c-b530-1d34fb4c6e8c"
      },
      "execution_count": 99,
      "outputs": [
        {
          "output_type": "execute_result",
          "data": {
            "text/plain": [
              "2"
            ]
          },
          "metadata": {},
          "execution_count": 99
        }
      ]
    },
    {
      "cell_type": "code",
      "source": [
        "teste_algoritmo[::-1].index(2)\n",
        "# é o indice 1 de trás pra frente, logo o penúltimo item"
      ],
      "metadata": {
        "colab": {
          "base_uri": "https://localhost:8080/"
        },
        "id": "liTwBZTuOeMO",
        "outputId": "bd5a0eeb-4992-4f30-e053-8e06e6bd8840"
      },
      "execution_count": 100,
      "outputs": [
        {
          "output_type": "execute_result",
          "data": {
            "text/plain": [
              "1"
            ]
          },
          "metadata": {},
          "execution_count": 100
        }
      ]
    },
    {
      "cell_type": "markdown",
      "source": [],
      "metadata": {
        "id": "O_M6e-P6Onak"
      }
    }
  ],
  "metadata": {
    "kernelspec": {
      "display_name": "Python 3",
      "language": "python",
      "name": "python3"
    },
    "language_info": {
      "codemirror_mode": {
        "name": "ipython",
        "version": 3
      },
      "file_extension": ".py",
      "mimetype": "text/x-python",
      "name": "python",
      "nbconvert_exporter": "python",
      "pygments_lexer": "ipython3",
      "version": "3.8.5"
    },
    "colab": {
      "provenance": []
    }
  },
  "nbformat": 4,
  "nbformat_minor": 0
}